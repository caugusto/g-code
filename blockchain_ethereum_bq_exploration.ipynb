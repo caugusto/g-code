{
 "cells": [
  {
   "cell_type": "markdown",
   "id": "62b37e1d-81ce-4fd3-96ee-f8474b74228b",
   "metadata": {},
   "source": [
    "## Some Example Queries for Ethereum Data in BigQuery"
   ]
  },
  {
   "cell_type": "markdown",
   "id": "16fa7194-fc09-4bbd-880d-56f8ff140296",
   "metadata": {},
   "source": [
    "### Look for a specific transaction using bigquery-public-data.goog_blockchain_ethereum_mainnet_us"
   ]
  },
  {
   "cell_type": "code",
   "execution_count": 21,
   "id": "11a9d3e4-4cad-4084-a811-72e3c9f5784f",
   "metadata": {},
   "outputs": [
    {
     "data": {
      "application/vnd.jupyter.widget-view+json": {
       "model_id": "e41da520bf014b608feee7ed883819a6",
       "version_major": 2,
       "version_minor": 0
      },
      "text/plain": [
       "Query is running:   0%|          |"
      ]
     },
     "metadata": {},
     "output_type": "display_data"
    },
    {
     "data": {
      "application/vnd.jupyter.widget-view+json": {
       "model_id": "8a3087f2ef4845b1a670906c21ced052",
       "version_major": 2,
       "version_minor": 0
      },
      "text/plain": [
       "Downloading:   0%|          |"
      ]
     },
     "metadata": {},
     "output_type": "display_data"
    },
    {
     "data": {
      "text/html": [
       "<div>\n",
       "<style scoped>\n",
       "    .dataframe tbody tr th:only-of-type {\n",
       "        vertical-align: middle;\n",
       "    }\n",
       "\n",
       "    .dataframe tbody tr th {\n",
       "        vertical-align: top;\n",
       "    }\n",
       "\n",
       "    .dataframe thead th {\n",
       "        text-align: right;\n",
       "    }\n",
       "</style>\n",
       "<table border=\"1\" class=\"dataframe\">\n",
       "  <thead>\n",
       "    <tr style=\"text-align: right;\">\n",
       "      <th></th>\n",
       "      <th>block_hash</th>\n",
       "      <th>block_number</th>\n",
       "      <th>block_timestamp</th>\n",
       "      <th>transaction_hash</th>\n",
       "      <th>transaction_index</th>\n",
       "      <th>nonce</th>\n",
       "      <th>from_address</th>\n",
       "      <th>to_address</th>\n",
       "      <th>value</th>\n",
       "      <th>value_lossless</th>\n",
       "      <th>...</th>\n",
       "      <th>input</th>\n",
       "      <th>max_fee_per_gas</th>\n",
       "      <th>max_priority_fee_per_gas</th>\n",
       "      <th>transaction_type</th>\n",
       "      <th>chain_id</th>\n",
       "      <th>access_list</th>\n",
       "      <th>r</th>\n",
       "      <th>s</th>\n",
       "      <th>v</th>\n",
       "      <th>y_parity</th>\n",
       "    </tr>\n",
       "  </thead>\n",
       "  <tbody>\n",
       "    <tr>\n",
       "      <th>0</th>\n",
       "      <td>0x7506aafbadcf548bf79ddcdc5a9b0f560243e09c48fb...</td>\n",
       "      <td>18199149</td>\n",
       "      <td>2023-09-23 14:35:11+00:00</td>\n",
       "      <td>0x079f72cfd0b677ec21508b5c3fa53207785d258b62ff...</td>\n",
       "      <td>48</td>\n",
       "      <td>78378</td>\n",
       "      <td>0x8c54ebdd960056d2cff5998df5695daca1fc0190</td>\n",
       "      <td>0x4d224452801aced8b2f0aebe155379bb5d594381</td>\n",
       "      <td>0E-38</td>\n",
       "      <td>0</td>\n",
       "      <td>...</td>\n",
       "      <td>0xa9059cbb0000000000000000000000000c97305bd07f...</td>\n",
       "      <td>15922721096</td>\n",
       "      <td>2000000000</td>\n",
       "      <td>2</td>\n",
       "      <td>1</td>\n",
       "      <td>[]</td>\n",
       "      <td>0x82b2b97ee1b18afe9410903a068041c84b8ebf211594...</td>\n",
       "      <td>0x40ac80b4e4de7d8c1ed67bed8a684e06d0a5eaf7de1a...</td>\n",
       "      <td>0x1</td>\n",
       "      <td>0x1</td>\n",
       "    </tr>\n",
       "  </tbody>\n",
       "</table>\n",
       "<p>1 rows × 22 columns</p>\n",
       "</div>"
      ],
      "text/plain": [
       "                                          block_hash  block_number  \\\n",
       "0  0x7506aafbadcf548bf79ddcdc5a9b0f560243e09c48fb...      18199149   \n",
       "\n",
       "            block_timestamp  \\\n",
       "0 2023-09-23 14:35:11+00:00   \n",
       "\n",
       "                                    transaction_hash  transaction_index  \\\n",
       "0  0x079f72cfd0b677ec21508b5c3fa53207785d258b62ff...                 48   \n",
       "\n",
       "   nonce                                from_address  \\\n",
       "0  78378  0x8c54ebdd960056d2cff5998df5695daca1fc0190   \n",
       "\n",
       "                                   to_address  value value_lossless  ...  \\\n",
       "0  0x4d224452801aced8b2f0aebe155379bb5d594381  0E-38              0  ...   \n",
       "\n",
       "                                               input  max_fee_per_gas  \\\n",
       "0  0xa9059cbb0000000000000000000000000c97305bd07f...      15922721096   \n",
       "\n",
       "  max_priority_fee_per_gas  transaction_type  chain_id  access_list  \\\n",
       "0               2000000000                 2         1           []   \n",
       "\n",
       "                                                   r  \\\n",
       "0  0x82b2b97ee1b18afe9410903a068041c84b8ebf211594...   \n",
       "\n",
       "                                                   s    v y_parity  \n",
       "0  0x40ac80b4e4de7d8c1ed67bed8a684e06d0a5eaf7de1a...  0x1      0x1  \n",
       "\n",
       "[1 rows x 22 columns]"
      ]
     },
     "execution_count": 21,
     "metadata": {},
     "output_type": "execute_result"
    }
   ],
   "source": [
    "%%bigquery\n",
    "-- Specific transaction\n",
    "SELECT * FROM `bigquery-public-data.goog_blockchain_ethereum_mainnet_us.transactions` \n",
    "WHERE \n",
    "--TIMESTAMP_TRUNC(block_timestamp, MONTH) = TIMESTAMP(\"2023-09-23\") AND\n",
    "transaction_hash = '0x079f72cfd0b677ec21508b5c3fa53207785d258b62ffd5e8b54b06653b5035a0'\n",
    "LIMIT 1000;"
   ]
  },
  {
   "cell_type": "markdown",
   "id": "2fa2f695-a91b-4299-beca-9c5b208f94fb",
   "metadata": {},
   "source": [
    "### Looking at a specific Token transfer using a hash. Dataset goog_blockchain_ethereum_mainnet_us"
   ]
  },
  {
   "cell_type": "code",
   "execution_count": 22,
   "id": "58beb359-5df8-4fcf-b4e4-aa4aab26bdd4",
   "metadata": {},
   "outputs": [
    {
     "data": {
      "application/vnd.jupyter.widget-view+json": {
       "model_id": "bfb2019eda6043ddbf55f9605cba45cb",
       "version_major": 2,
       "version_minor": 0
      },
      "text/plain": [
       "Query is running:   0%|          |"
      ]
     },
     "metadata": {},
     "output_type": "display_data"
    },
    {
     "data": {
      "application/vnd.jupyter.widget-view+json": {
       "model_id": "f76e0041722d424ab2ecacb58719c059",
       "version_major": 2,
       "version_minor": 0
      },
      "text/plain": [
       "Downloading:   0%|          |"
      ]
     },
     "metadata": {},
     "output_type": "display_data"
    },
    {
     "data": {
      "text/html": [
       "<div>\n",
       "<style scoped>\n",
       "    .dataframe tbody tr th:only-of-type {\n",
       "        vertical-align: middle;\n",
       "    }\n",
       "\n",
       "    .dataframe tbody tr th {\n",
       "        vertical-align: top;\n",
       "    }\n",
       "\n",
       "    .dataframe thead th {\n",
       "        text-align: right;\n",
       "    }\n",
       "</style>\n",
       "<table border=\"1\" class=\"dataframe\">\n",
       "  <thead>\n",
       "    <tr style=\"text-align: right;\">\n",
       "      <th></th>\n",
       "      <th>block_hash</th>\n",
       "      <th>block_number</th>\n",
       "      <th>block_timestamp</th>\n",
       "      <th>transaction_hash</th>\n",
       "      <th>transaction_index</th>\n",
       "      <th>event_index</th>\n",
       "      <th>batch_index</th>\n",
       "      <th>address</th>\n",
       "      <th>event_type</th>\n",
       "      <th>event_hash</th>\n",
       "      <th>event_signature</th>\n",
       "      <th>operator_address</th>\n",
       "      <th>from_address</th>\n",
       "      <th>to_address</th>\n",
       "      <th>token_id</th>\n",
       "      <th>quantity</th>\n",
       "      <th>removed</th>\n",
       "    </tr>\n",
       "  </thead>\n",
       "  <tbody>\n",
       "    <tr>\n",
       "      <th>0</th>\n",
       "      <td>0x7506aafbadcf548bf79ddcdc5a9b0f560243e09c48fb...</td>\n",
       "      <td>18199149</td>\n",
       "      <td>2023-09-23 14:35:11+00:00</td>\n",
       "      <td>0x079f72cfd0b677ec21508b5c3fa53207785d258b62ff...</td>\n",
       "      <td>48</td>\n",
       "      <td>185</td>\n",
       "      <td>&lt;NA&gt;</td>\n",
       "      <td>0x4d224452801aced8b2f0aebe155379bb5d594381</td>\n",
       "      <td>ERC-20</td>\n",
       "      <td>0xddf252ad1be2c89b69c2b068fc378daa952ba7f163c4...</td>\n",
       "      <td>Transfer(address,address,uint256)</td>\n",
       "      <td>None</td>\n",
       "      <td>0x8c54ebdd960056d2cff5998df5695daca1fc0190</td>\n",
       "      <td>0x0c97305bd07fc582bcc2042b9a2dedd9f451e75b</td>\n",
       "      <td>None</td>\n",
       "      <td>10917000000000000000000</td>\n",
       "      <td>False</td>\n",
       "    </tr>\n",
       "  </tbody>\n",
       "</table>\n",
       "</div>"
      ],
      "text/plain": [
       "                                          block_hash  block_number  \\\n",
       "0  0x7506aafbadcf548bf79ddcdc5a9b0f560243e09c48fb...      18199149   \n",
       "\n",
       "            block_timestamp  \\\n",
       "0 2023-09-23 14:35:11+00:00   \n",
       "\n",
       "                                    transaction_hash  transaction_index  \\\n",
       "0  0x079f72cfd0b677ec21508b5c3fa53207785d258b62ff...                 48   \n",
       "\n",
       "   event_index  batch_index                                     address  \\\n",
       "0          185         <NA>  0x4d224452801aced8b2f0aebe155379bb5d594381   \n",
       "\n",
       "  event_type                                         event_hash  \\\n",
       "0     ERC-20  0xddf252ad1be2c89b69c2b068fc378daa952ba7f163c4...   \n",
       "\n",
       "                     event_signature operator_address  \\\n",
       "0  Transfer(address,address,uint256)             None   \n",
       "\n",
       "                                 from_address  \\\n",
       "0  0x8c54ebdd960056d2cff5998df5695daca1fc0190   \n",
       "\n",
       "                                   to_address token_id  \\\n",
       "0  0x0c97305bd07fc582bcc2042b9a2dedd9f451e75b     None   \n",
       "\n",
       "                  quantity  removed  \n",
       "0  10917000000000000000000    False  "
      ]
     },
     "execution_count": 22,
     "metadata": {},
     "output_type": "execute_result"
    }
   ],
   "source": [
    "%%bigquery\n",
    "\n",
    "SELECT * FROM `bigquery-public-data.goog_blockchain_ethereum_mainnet_us.token_transfers` \n",
    "WHERE \n",
    "--TIMESTAMP_TRUNC(block_timestamp, MONTH) = TIMESTAMP(\"2023-09-23\") AND\n",
    "transaction_hash = '0x079f72cfd0b677ec21508b5c3fa53207785d258b62ffd5e8b54b06653b5035a0'\n",
    "LIMIT 1000;"
   ]
  },
  {
   "cell_type": "markdown",
   "id": "8a31e17f-bfbb-475c-bddb-f661ff2b6297",
   "metadata": {},
   "source": [
    "### Looking at the APECoin Contract (from Apecoin.com) using bigquery-public-data.crypto_ethereum"
   ]
  },
  {
   "cell_type": "code",
   "execution_count": 24,
   "id": "92c10c84-6bf3-40ad-b8a3-d5e3da9cf26a",
   "metadata": {},
   "outputs": [
    {
     "data": {
      "application/vnd.jupyter.widget-view+json": {
       "model_id": "d8f125fae39348f691fe71d7dfab3dce",
       "version_major": 2,
       "version_minor": 0
      },
      "text/plain": [
       "Query is running:   0%|          |"
      ]
     },
     "metadata": {},
     "output_type": "display_data"
    },
    {
     "data": {
      "application/vnd.jupyter.widget-view+json": {
       "model_id": "5e4b137cb5fb4860b0e0ffb128c28aac",
       "version_major": 2,
       "version_minor": 0
      },
      "text/plain": [
       "Downloading:   0%|          |"
      ]
     },
     "metadata": {},
     "output_type": "display_data"
    },
    {
     "data": {
      "text/html": [
       "<div>\n",
       "<style scoped>\n",
       "    .dataframe tbody tr th:only-of-type {\n",
       "        vertical-align: middle;\n",
       "    }\n",
       "\n",
       "    .dataframe tbody tr th {\n",
       "        vertical-align: top;\n",
       "    }\n",
       "\n",
       "    .dataframe thead th {\n",
       "        text-align: right;\n",
       "    }\n",
       "</style>\n",
       "<table border=\"1\" class=\"dataframe\">\n",
       "  <thead>\n",
       "    <tr style=\"text-align: right;\">\n",
       "      <th></th>\n",
       "      <th>address</th>\n",
       "      <th>bytecode</th>\n",
       "      <th>function_sighashes</th>\n",
       "      <th>is_erc20</th>\n",
       "      <th>is_erc721</th>\n",
       "      <th>block_timestamp</th>\n",
       "      <th>block_number</th>\n",
       "      <th>block_hash</th>\n",
       "    </tr>\n",
       "  </thead>\n",
       "  <tbody>\n",
       "    <tr>\n",
       "      <th>0</th>\n",
       "      <td>0x4d224452801aced8b2f0aebe155379bb5d594381</td>\n",
       "      <td>0x608060405234801561001057600080fd5b5060043610...</td>\n",
       "      <td>[]</td>\n",
       "      <td>False</td>\n",
       "      <td>False</td>\n",
       "      <td>2022-02-14 13:25:35+00:00</td>\n",
       "      <td>14204533</td>\n",
       "      <td>0x4d3038ee6752ac5c3fff03438d3050b03a590bda447e...</td>\n",
       "    </tr>\n",
       "  </tbody>\n",
       "</table>\n",
       "</div>"
      ],
      "text/plain": [
       "                                      address  \\\n",
       "0  0x4d224452801aced8b2f0aebe155379bb5d594381   \n",
       "\n",
       "                                            bytecode function_sighashes  \\\n",
       "0  0x608060405234801561001057600080fd5b5060043610...                 []   \n",
       "\n",
       "   is_erc20  is_erc721           block_timestamp  block_number  \\\n",
       "0     False      False 2022-02-14 13:25:35+00:00      14204533   \n",
       "\n",
       "                                          block_hash  \n",
       "0  0x4d3038ee6752ac5c3fff03438d3050b03a590bda447e...  "
      ]
     },
     "execution_count": 24,
     "metadata": {},
     "output_type": "execute_result"
    }
   ],
   "source": [
    "%%bigquery\n",
    "\n",
    "\n",
    "SELECT * FROM `bigquery-public-data.crypto_ethereum.contracts` WHERE \n",
    "address = '0x4d224452801aced8b2f0aebe155379bb5d594381'\n",
    "LIMIT 10;"
   ]
  },
  {
   "cell_type": "markdown",
   "id": "ea068b3a-ae2c-4f28-b7f2-cec57f333690",
   "metadata": {},
   "source": [
    "### To view the first and last block indexed using goog_blockchain_ethereum_mainnet_us"
   ]
  },
  {
   "cell_type": "code",
   "execution_count": 25,
   "id": "49927d18-ecc0-4f2d-be8f-482b9026fac5",
   "metadata": {},
   "outputs": [
    {
     "data": {
      "application/vnd.jupyter.widget-view+json": {
       "model_id": "b16ed04e52794e0f9cdac14e79abf1fe",
       "version_major": 2,
       "version_minor": 0
      },
      "text/plain": [
       "Query is running:   0%|          |"
      ]
     },
     "metadata": {},
     "output_type": "display_data"
    },
    {
     "data": {
      "application/vnd.jupyter.widget-view+json": {
       "model_id": "80b3d460ce3c4934b35475304c9fdcff",
       "version_major": 2,
       "version_minor": 0
      },
      "text/plain": [
       "Downloading:   0%|          |"
      ]
     },
     "metadata": {},
     "output_type": "display_data"
    },
    {
     "data": {
      "text/html": [
       "<div>\n",
       "<style scoped>\n",
       "    .dataframe tbody tr th:only-of-type {\n",
       "        vertical-align: middle;\n",
       "    }\n",
       "\n",
       "    .dataframe tbody tr th {\n",
       "        vertical-align: top;\n",
       "    }\n",
       "\n",
       "    .dataframe thead th {\n",
       "        text-align: right;\n",
       "    }\n",
       "</style>\n",
       "<table border=\"1\" class=\"dataframe\">\n",
       "  <thead>\n",
       "    <tr style=\"text-align: right;\">\n",
       "      <th></th>\n",
       "      <th>First block</th>\n",
       "      <th>Newest block</th>\n",
       "      <th>Total number of blocks</th>\n",
       "    </tr>\n",
       "  </thead>\n",
       "  <tbody>\n",
       "    <tr>\n",
       "      <th>0</th>\n",
       "      <td>0</td>\n",
       "      <td>18213296</td>\n",
       "      <td>18213297</td>\n",
       "    </tr>\n",
       "  </tbody>\n",
       "</table>\n",
       "</div>"
      ],
      "text/plain": [
       "   First block  Newest block  Total number of blocks\n",
       "0            0      18213296                18213297"
      ]
     },
     "execution_count": 25,
     "metadata": {},
     "output_type": "execute_result"
    }
   ],
   "source": [
    "%%bigquery\n",
    "\n",
    "SELECT\n",
    "  MIN(block_number) AS `First block`,\n",
    "  MAX(block_number) AS `Newest block`,\n",
    "  COUNT(1) AS `Total number of blocks`\n",
    "FROM\n",
    "  bigquery-public-data.goog_blockchain_ethereum_mainnet_us.blocks;"
   ]
  },
  {
   "cell_type": "markdown",
   "id": "8f7feb2f-9ebf-445e-95ed-866f5bbb468d",
   "metadata": {},
   "source": [
    "### To view the number of Etherium transactions for Apecoin address using bigquery-public-data.crypto_ethereum"
   ]
  },
  {
   "cell_type": "code",
   "execution_count": 26,
   "id": "bb87e5d7-52af-444e-914c-5a31db6b2082",
   "metadata": {},
   "outputs": [
    {
     "data": {
      "application/vnd.jupyter.widget-view+json": {
       "model_id": "f5e310e53b434f0f8b2ee376dc74f46a",
       "version_major": 2,
       "version_minor": 0
      },
      "text/plain": [
       "Query is running:   0%|          |"
      ]
     },
     "metadata": {},
     "output_type": "display_data"
    },
    {
     "data": {
      "application/vnd.jupyter.widget-view+json": {
       "model_id": "e8e7640cb4994ae580977d362552a686",
       "version_major": 2,
       "version_minor": 0
      },
      "text/plain": [
       "Downloading:   0%|          |"
      ]
     },
     "metadata": {},
     "output_type": "display_data"
    },
    {
     "data": {
      "text/html": [
       "<div>\n",
       "<style scoped>\n",
       "    .dataframe tbody tr th:only-of-type {\n",
       "        vertical-align: middle;\n",
       "    }\n",
       "\n",
       "    .dataframe tbody tr th {\n",
       "        vertical-align: top;\n",
       "    }\n",
       "\n",
       "    .dataframe thead th {\n",
       "        text-align: right;\n",
       "    }\n",
       "</style>\n",
       "<table border=\"1\" class=\"dataframe\">\n",
       "  <thead>\n",
       "    <tr style=\"text-align: right;\">\n",
       "      <th></th>\n",
       "      <th>address</th>\n",
       "      <th>tx_count</th>\n",
       "    </tr>\n",
       "  </thead>\n",
       "  <tbody>\n",
       "    <tr>\n",
       "      <th>0</th>\n",
       "      <td>0x4d224452801aced8b2f0aebe155379bb5d594381</td>\n",
       "      <td>1238871</td>\n",
       "    </tr>\n",
       "  </tbody>\n",
       "</table>\n",
       "</div>"
      ],
      "text/plain": [
       "                                      address  tx_count\n",
       "0  0x4d224452801aced8b2f0aebe155379bb5d594381   1238871"
      ]
     },
     "execution_count": 26,
     "metadata": {},
     "output_type": "execute_result"
    }
   ],
   "source": [
    "%%bigquery\n",
    "\n",
    "SELECT contracts.address, COUNT(1) AS tx_count\n",
    "FROM `bigquery-public-data.crypto_ethereum.contracts` AS contracts\n",
    "JOIN `bigquery-public-data.crypto_ethereum.transactions` AS transactions ON (transactions.to_address = contracts.address)\n",
    "WHERE \n",
    "--contracts.is_erc20 = TRUE \n",
    "--AND\n",
    "contracts.address = '0x4d224452801aced8b2f0aebe155379bb5d594381'\n",
    "GROUP BY contracts.address\n",
    "ORDER BY tx_count DESC\n",
    "LIMIT 10;"
   ]
  },
  {
   "cell_type": "markdown",
   "id": "6c3cd6fa-69d8-4d3f-b266-76cc90632fa7",
   "metadata": {},
   "source": [
    "### Top10 Etherium Contracts by Transactions using bigquery-public-data.crypto_ethereum"
   ]
  },
  {
   "cell_type": "code",
   "execution_count": 28,
   "id": "0422c17a-4117-4ab6-b8a5-08cbf49c328e",
   "metadata": {},
   "outputs": [
    {
     "data": {
      "application/vnd.jupyter.widget-view+json": {
       "model_id": "60d7118dd4d145c5a1388d98d17a8e86",
       "version_major": 2,
       "version_minor": 0
      },
      "text/plain": [
       "Query is running:   0%|          |"
      ]
     },
     "metadata": {},
     "output_type": "display_data"
    },
    {
     "data": {
      "application/vnd.jupyter.widget-view+json": {
       "model_id": "7a1e51d64cf84ac0bb46b1d3b877e9d3",
       "version_major": 2,
       "version_minor": 0
      },
      "text/plain": [
       "Downloading:   0%|          |"
      ]
     },
     "metadata": {},
     "output_type": "display_data"
    },
    {
     "data": {
      "text/html": [
       "<div>\n",
       "<style scoped>\n",
       "    .dataframe tbody tr th:only-of-type {\n",
       "        vertical-align: middle;\n",
       "    }\n",
       "\n",
       "    .dataframe tbody tr th {\n",
       "        vertical-align: top;\n",
       "    }\n",
       "\n",
       "    .dataframe thead th {\n",
       "        text-align: right;\n",
       "    }\n",
       "</style>\n",
       "<table border=\"1\" class=\"dataframe\">\n",
       "  <thead>\n",
       "    <tr style=\"text-align: right;\">\n",
       "      <th></th>\n",
       "      <th>address</th>\n",
       "      <th>tx_count</th>\n",
       "    </tr>\n",
       "  </thead>\n",
       "  <tbody>\n",
       "    <tr>\n",
       "      <th>0</th>\n",
       "      <td>0xdac17f958d2ee523a2206206994597c13d831ec7</td>\n",
       "      <td>173727472</td>\n",
       "    </tr>\n",
       "    <tr>\n",
       "      <th>1</th>\n",
       "      <td>0xc02aaa39b223fe8d0a0e5c4f27ead9083c756cc2</td>\n",
       "      <td>14768402</td>\n",
       "    </tr>\n",
       "    <tr>\n",
       "      <th>2</th>\n",
       "      <td>0x174bfa6600bf90c885c7c01c7031389ed1461ab9</td>\n",
       "      <td>9088375</td>\n",
       "    </tr>\n",
       "    <tr>\n",
       "      <th>3</th>\n",
       "      <td>0x95ad61b0a150d79219dcf64e1e6cc01f0b64c4ce</td>\n",
       "      <td>7638457</td>\n",
       "    </tr>\n",
       "    <tr>\n",
       "      <th>4</th>\n",
       "      <td>0x514910771af9ca656af840dff83e8264ecf986ca</td>\n",
       "      <td>7024076</td>\n",
       "    </tr>\n",
       "    <tr>\n",
       "      <th>5</th>\n",
       "      <td>0x0d8775f648430679a709e98d2b0cb6250d2887ef</td>\n",
       "      <td>3115496</td>\n",
       "    </tr>\n",
       "    <tr>\n",
       "      <th>6</th>\n",
       "      <td>0x86fa049857e0209aa7d9e616f7eb3b3b78ecfdb0</td>\n",
       "      <td>2971022</td>\n",
       "    </tr>\n",
       "    <tr>\n",
       "      <th>7</th>\n",
       "      <td>0xd26114cd6ee289accf82350c8d8487fedb8a0c07</td>\n",
       "      <td>2859539</td>\n",
       "    </tr>\n",
       "    <tr>\n",
       "      <th>8</th>\n",
       "      <td>0x9b9647431632af44be02ddd22477ed94d14aacaa</td>\n",
       "      <td>2260974</td>\n",
       "    </tr>\n",
       "    <tr>\n",
       "      <th>9</th>\n",
       "      <td>0x8fdcc30eda7e94f1c12ce0280df6cd531e8365c5</td>\n",
       "      <td>2229777</td>\n",
       "    </tr>\n",
       "  </tbody>\n",
       "</table>\n",
       "</div>"
      ],
      "text/plain": [
       "                                      address   tx_count\n",
       "0  0xdac17f958d2ee523a2206206994597c13d831ec7  173727472\n",
       "1  0xc02aaa39b223fe8d0a0e5c4f27ead9083c756cc2   14768402\n",
       "2  0x174bfa6600bf90c885c7c01c7031389ed1461ab9    9088375\n",
       "3  0x95ad61b0a150d79219dcf64e1e6cc01f0b64c4ce    7638457\n",
       "4  0x514910771af9ca656af840dff83e8264ecf986ca    7024076\n",
       "5  0x0d8775f648430679a709e98d2b0cb6250d2887ef    3115496\n",
       "6  0x86fa049857e0209aa7d9e616f7eb3b3b78ecfdb0    2971022\n",
       "7  0xd26114cd6ee289accf82350c8d8487fedb8a0c07    2859539\n",
       "8  0x9b9647431632af44be02ddd22477ed94d14aacaa    2260974\n",
       "9  0x8fdcc30eda7e94f1c12ce0280df6cd531e8365c5    2229777"
      ]
     },
     "execution_count": 28,
     "metadata": {},
     "output_type": "execute_result"
    }
   ],
   "source": [
    "%%bigquery\n",
    "\n",
    "SELECT contracts.address, COUNT(1) AS tx_count\n",
    "FROM `bigquery-public-data.crypto_ethereum.contracts` AS contracts\n",
    "JOIN `bigquery-public-data.crypto_ethereum.transactions` AS transactions ON (transactions.to_address = contracts.address)\n",
    "WHERE contracts.is_erc20 = TRUE\n",
    "GROUP BY contracts.address\n",
    "ORDER BY tx_count DESC\n",
    "LIMIT 10;"
   ]
  },
  {
   "cell_type": "markdown",
   "id": "35503075-f151-4db2-b0c1-16c9586efeab",
   "metadata": {},
   "source": [
    "### Visualize the number of transactions by day over the last 6 months using bigquery-public-data.goog_blockchain_ethereum_mainnet_us.transactions"
   ]
  },
  {
   "cell_type": "code",
   "execution_count": 29,
   "id": "29c45858-328a-44a2-ac6d-8102881c96a8",
   "metadata": {},
   "outputs": [
    {
     "data": {
      "application/vnd.jupyter.widget-view+json": {
       "model_id": "6d1e35f5bd10436a86ebd1af75011cbd",
       "version_major": 2,
       "version_minor": 0
      },
      "text/plain": [
       "Query is running:   0%|          |"
      ]
     },
     "metadata": {},
     "output_type": "display_data"
    },
    {
     "data": {
      "application/vnd.jupyter.widget-view+json": {
       "model_id": "92bcbb3799e84fc9943ebc2c61158147",
       "version_major": 2,
       "version_minor": 0
      },
      "text/plain": [
       "Downloading:   0%|          |"
      ]
     },
     "metadata": {},
     "output_type": "display_data"
    },
    {
     "data": {
      "text/html": [
       "<div>\n",
       "<style scoped>\n",
       "    .dataframe tbody tr th:only-of-type {\n",
       "        vertical-align: middle;\n",
       "    }\n",
       "\n",
       "    .dataframe tbody tr th {\n",
       "        vertical-align: top;\n",
       "    }\n",
       "\n",
       "    .dataframe thead th {\n",
       "        text-align: right;\n",
       "    }\n",
       "</style>\n",
       "<table border=\"1\" class=\"dataframe\">\n",
       "  <thead>\n",
       "    <tr style=\"text-align: right;\">\n",
       "      <th></th>\n",
       "      <th>timestamp1</th>\n",
       "      <th>txn_count</th>\n",
       "    </tr>\n",
       "  </thead>\n",
       "  <tbody>\n",
       "    <tr>\n",
       "      <th>0</th>\n",
       "      <td>2023-03-25 00:00:00+00:00</td>\n",
       "      <td>1052415</td>\n",
       "    </tr>\n",
       "    <tr>\n",
       "      <th>1</th>\n",
       "      <td>2023-03-26 00:00:00+00:00</td>\n",
       "      <td>1011463</td>\n",
       "    </tr>\n",
       "    <tr>\n",
       "      <th>2</th>\n",
       "      <td>2023-03-27 00:00:00+00:00</td>\n",
       "      <td>1100122</td>\n",
       "    </tr>\n",
       "    <tr>\n",
       "      <th>3</th>\n",
       "      <td>2023-03-28 00:00:00+00:00</td>\n",
       "      <td>1149677</td>\n",
       "    </tr>\n",
       "    <tr>\n",
       "      <th>4</th>\n",
       "      <td>2023-03-29 00:00:00+00:00</td>\n",
       "      <td>1165012</td>\n",
       "    </tr>\n",
       "    <tr>\n",
       "      <th>...</th>\n",
       "      <td>...</td>\n",
       "      <td>...</td>\n",
       "    </tr>\n",
       "    <tr>\n",
       "      <th>180</th>\n",
       "      <td>2023-09-21 00:00:00+00:00</td>\n",
       "      <td>1131119</td>\n",
       "    </tr>\n",
       "    <tr>\n",
       "      <th>181</th>\n",
       "      <td>2023-09-22 00:00:00+00:00</td>\n",
       "      <td>974991</td>\n",
       "    </tr>\n",
       "    <tr>\n",
       "      <th>182</th>\n",
       "      <td>2023-09-23 00:00:00+00:00</td>\n",
       "      <td>863503</td>\n",
       "    </tr>\n",
       "    <tr>\n",
       "      <th>183</th>\n",
       "      <td>2023-09-24 00:00:00+00:00</td>\n",
       "      <td>883746</td>\n",
       "    </tr>\n",
       "    <tr>\n",
       "      <th>184</th>\n",
       "      <td>2023-09-25 00:00:00+00:00</td>\n",
       "      <td>575592</td>\n",
       "    </tr>\n",
       "  </tbody>\n",
       "</table>\n",
       "<p>185 rows × 2 columns</p>\n",
       "</div>"
      ],
      "text/plain": [
       "                   timestamp1  txn_count\n",
       "0   2023-03-25 00:00:00+00:00    1052415\n",
       "1   2023-03-26 00:00:00+00:00    1011463\n",
       "2   2023-03-27 00:00:00+00:00    1100122\n",
       "3   2023-03-28 00:00:00+00:00    1149677\n",
       "4   2023-03-29 00:00:00+00:00    1165012\n",
       "..                        ...        ...\n",
       "180 2023-09-21 00:00:00+00:00    1131119\n",
       "181 2023-09-22 00:00:00+00:00     974991\n",
       "182 2023-09-23 00:00:00+00:00     863503\n",
       "183 2023-09-24 00:00:00+00:00     883746\n",
       "184 2023-09-25 00:00:00+00:00     575592\n",
       "\n",
       "[185 rows x 2 columns]"
      ]
     },
     "execution_count": 29,
     "metadata": {},
     "output_type": "execute_result"
    }
   ],
   "source": [
    "%%bigquery\n",
    "\n",
    "SELECT\n",
    "  TIMESTAMP_TRUNC(block_timestamp, DAY) AS timestamp1, COUNT(1) AS txn_count\n",
    "FROM\n",
    "  bigquery-public-data.goog_blockchain_ethereum_mainnet_us.transactions\n",
    "WHERE\n",
    "  block_timestamp >= CAST(DATE_SUB(CURRENT_DATE(), INTERVAL 6 MONTH) AS TIMESTAMP)\n",
    "GROUP BY timestamp1\n",
    "ORDER BY timestamp1;"
   ]
  },
  {
   "cell_type": "markdown",
   "id": "8c31d960-34b9-4c56-b128-a2bcba6a72d2",
   "metadata": {},
   "source": [
    "### Count the number of blocks added each calendar day since \"The Merge\" using  bigquery-public-data.goog_blockchain_ethereum_mainnet_us\n",
    "### Since then, there are 7200 slots available for blocks, but not every slot is used."
   ]
  },
  {
   "cell_type": "code",
   "execution_count": 31,
   "id": "ff0f98f9-de26-4abb-b7e9-0d9dbcb6d2d1",
   "metadata": {},
   "outputs": [
    {
     "data": {
      "application/vnd.jupyter.widget-view+json": {
       "model_id": "c1d830d1483f418f8403c4cdcf10f633",
       "version_major": 2,
       "version_minor": 0
      },
      "text/plain": [
       "Query is running:   0%|          |"
      ]
     },
     "metadata": {},
     "output_type": "display_data"
    },
    {
     "data": {
      "application/vnd.jupyter.widget-view+json": {
       "model_id": "1057b40934cc44209f09e817130fdef5",
       "version_major": 2,
       "version_minor": 0
      },
      "text/plain": [
       "Downloading:   0%|          |"
      ]
     },
     "metadata": {},
     "output_type": "display_data"
    },
    {
     "data": {
      "text/html": [
       "<div>\n",
       "<style scoped>\n",
       "    .dataframe tbody tr th:only-of-type {\n",
       "        vertical-align: middle;\n",
       "    }\n",
       "\n",
       "    .dataframe tbody tr th {\n",
       "        vertical-align: top;\n",
       "    }\n",
       "\n",
       "    .dataframe thead th {\n",
       "        text-align: right;\n",
       "    }\n",
       "</style>\n",
       "<table border=\"1\" class=\"dataframe\">\n",
       "  <thead>\n",
       "    <tr style=\"text-align: right;\">\n",
       "      <th></th>\n",
       "      <th>block_date</th>\n",
       "      <th>daily_blocks</th>\n",
       "      <th>skipped_slots</th>\n",
       "    </tr>\n",
       "  </thead>\n",
       "  <tbody>\n",
       "    <tr>\n",
       "      <th>0</th>\n",
       "      <td>2023-02-05</td>\n",
       "      <td>7166</td>\n",
       "      <td>34</td>\n",
       "    </tr>\n",
       "    <tr>\n",
       "      <th>1</th>\n",
       "      <td>2023-04-21</td>\n",
       "      <td>7098</td>\n",
       "      <td>102</td>\n",
       "    </tr>\n",
       "    <tr>\n",
       "      <th>2</th>\n",
       "      <td>2022-12-01</td>\n",
       "      <td>7163</td>\n",
       "      <td>37</td>\n",
       "    </tr>\n",
       "    <tr>\n",
       "      <th>3</th>\n",
       "      <td>2023-05-31</td>\n",
       "      <td>7101</td>\n",
       "      <td>99</td>\n",
       "    </tr>\n",
       "    <tr>\n",
       "      <th>4</th>\n",
       "      <td>2023-06-07</td>\n",
       "      <td>7089</td>\n",
       "      <td>111</td>\n",
       "    </tr>\n",
       "    <tr>\n",
       "      <th>...</th>\n",
       "      <td>...</td>\n",
       "      <td>...</td>\n",
       "      <td>...</td>\n",
       "    </tr>\n",
       "    <tr>\n",
       "      <th>369</th>\n",
       "      <td>2023-09-02</td>\n",
       "      <td>7124</td>\n",
       "      <td>76</td>\n",
       "    </tr>\n",
       "    <tr>\n",
       "      <th>370</th>\n",
       "      <td>2023-09-04</td>\n",
       "      <td>7162</td>\n",
       "      <td>38</td>\n",
       "    </tr>\n",
       "    <tr>\n",
       "      <th>371</th>\n",
       "      <td>2023-08-15</td>\n",
       "      <td>7150</td>\n",
       "      <td>50</td>\n",
       "    </tr>\n",
       "    <tr>\n",
       "      <th>372</th>\n",
       "      <td>2023-09-16</td>\n",
       "      <td>7080</td>\n",
       "      <td>120</td>\n",
       "    </tr>\n",
       "    <tr>\n",
       "      <th>373</th>\n",
       "      <td>2023-09-22</td>\n",
       "      <td>7127</td>\n",
       "      <td>73</td>\n",
       "    </tr>\n",
       "  </tbody>\n",
       "</table>\n",
       "<p>374 rows × 3 columns</p>\n",
       "</div>"
      ],
      "text/plain": [
       "     block_date  daily_blocks  skipped_slots\n",
       "0    2023-02-05          7166             34\n",
       "1    2023-04-21          7098            102\n",
       "2    2022-12-01          7163             37\n",
       "3    2023-05-31          7101             99\n",
       "4    2023-06-07          7089            111\n",
       "..          ...           ...            ...\n",
       "369  2023-09-02          7124             76\n",
       "370  2023-09-04          7162             38\n",
       "371  2023-08-15          7150             50\n",
       "372  2023-09-16          7080            120\n",
       "373  2023-09-22          7127             73\n",
       "\n",
       "[374 rows x 3 columns]"
      ]
     },
     "execution_count": 31,
     "metadata": {},
     "output_type": "execute_result"
    }
   ],
   "source": [
    "%%bigquery\n",
    "\n",
    "SELECT\n",
    "  DATE(block_timestamp) AS block_date,\n",
    "  COUNT(block_number) AS daily_blocks,\n",
    "  7200 - COUNT(block_number) AS skipped_slots\n",
    "FROM\n",
    "  bigquery-public-data.goog_blockchain_ethereum_mainnet_us.blocks\n",
    "WHERE\n",
    "  DATE(block_timestamp) BETWEEN DATE(\"2022-09-16\") AND CURRENT_DATE(\"UTC\") - 1 /* Only count complete days after The Merge */\n",
    "GROUP BY block_date;"
   ]
  },
  {
   "cell_type": "markdown",
   "id": "2d6835a9-6689-4346-8723-3d9a89fa213c",
   "metadata": {},
   "source": [
    "### Total Staked ETH withdrawal using bigquery-public-data.goog_blockchain_ethereum_mainnet_us\n",
    " Lossless example with UDF workaround for UINT256"
   ]
  },
  {
   "cell_type": "code",
   "execution_count": 32,
   "id": "27e2a7bc-576b-452a-9df3-1b5230e32aba",
   "metadata": {},
   "outputs": [
    {
     "data": {
      "application/vnd.jupyter.widget-view+json": {
       "model_id": "4ab9711fa4be4d62aee0f70e92ea2789",
       "version_major": 2,
       "version_minor": 0
      },
      "text/plain": [
       "Query is running:   0%|          |"
      ]
     },
     "metadata": {},
     "output_type": "display_data"
    },
    {
     "data": {
      "application/vnd.jupyter.widget-view+json": {
       "model_id": "46b5162835824fc693594adc7d1fff74",
       "version_major": 2,
       "version_minor": 0
      },
      "text/plain": [
       "Downloading:   0%|          |"
      ]
     },
     "metadata": {},
     "output_type": "display_data"
    },
    {
     "data": {
      "text/html": [
       "<div>\n",
       "<style scoped>\n",
       "    .dataframe tbody tr th:only-of-type {\n",
       "        vertical-align: middle;\n",
       "    }\n",
       "\n",
       "    .dataframe tbody tr th {\n",
       "        vertical-align: top;\n",
       "    }\n",
       "\n",
       "    .dataframe thead th {\n",
       "        text-align: right;\n",
       "    }\n",
       "</style>\n",
       "<table border=\"1\" class=\"dataframe\">\n",
       "  <thead>\n",
       "    <tr style=\"text-align: right;\">\n",
       "      <th></th>\n",
       "      <th>block_date</th>\n",
       "      <th>eth_withdrawn</th>\n",
       "    </tr>\n",
       "  </thead>\n",
       "  <tbody>\n",
       "    <tr>\n",
       "      <th>0</th>\n",
       "      <td>2023-09-25</td>\n",
       "      <td>4305</td>\n",
       "    </tr>\n",
       "    <tr>\n",
       "      <th>1</th>\n",
       "      <td>2023-09-24</td>\n",
       "      <td>84189</td>\n",
       "    </tr>\n",
       "    <tr>\n",
       "      <th>2</th>\n",
       "      <td>2023-09-23</td>\n",
       "      <td>15584</td>\n",
       "    </tr>\n",
       "    <tr>\n",
       "      <th>3</th>\n",
       "      <td>2023-09-22</td>\n",
       "      <td>4027</td>\n",
       "    </tr>\n",
       "    <tr>\n",
       "      <th>4</th>\n",
       "      <td>2023-09-21</td>\n",
       "      <td>3453</td>\n",
       "    </tr>\n",
       "    <tr>\n",
       "      <th>...</th>\n",
       "      <td>...</td>\n",
       "      <td>...</td>\n",
       "    </tr>\n",
       "    <tr>\n",
       "      <th>162</th>\n",
       "      <td>2023-04-16</td>\n",
       "      <td>280435</td>\n",
       "    </tr>\n",
       "    <tr>\n",
       "      <th>163</th>\n",
       "      <td>2023-04-15</td>\n",
       "      <td>392802</td>\n",
       "    </tr>\n",
       "    <tr>\n",
       "      <th>164</th>\n",
       "      <td>2023-04-14</td>\n",
       "      <td>103300</td>\n",
       "    </tr>\n",
       "    <tr>\n",
       "      <th>165</th>\n",
       "      <td>2023-04-13</td>\n",
       "      <td>202781</td>\n",
       "    </tr>\n",
       "    <tr>\n",
       "      <th>166</th>\n",
       "      <td>2023-04-12</td>\n",
       "      <td>18083</td>\n",
       "    </tr>\n",
       "  </tbody>\n",
       "</table>\n",
       "<p>167 rows × 2 columns</p>\n",
       "</div>"
      ],
      "text/plain": [
       "     block_date eth_withdrawn\n",
       "0    2023-09-25          4305\n",
       "1    2023-09-24         84189\n",
       "2    2023-09-23         15584\n",
       "3    2023-09-22          4027\n",
       "4    2023-09-21          3453\n",
       "..          ...           ...\n",
       "162  2023-04-16        280435\n",
       "163  2023-04-15        392802\n",
       "164  2023-04-14        103300\n",
       "165  2023-04-13        202781\n",
       "166  2023-04-12         18083\n",
       "\n",
       "[167 rows x 2 columns]"
      ]
     },
     "execution_count": 32,
     "metadata": {},
     "output_type": "execute_result"
    }
   ],
   "source": [
    "%%bigquery\n",
    "\n",
    "WITH withdrawals AS (\n",
    "  SELECT\n",
    "    w.amount_lossless AS amount,\n",
    "    DATE(b.block_timestamp) AS block_date\n",
    "  FROM\n",
    "    bigquery-public-data.goog_blockchain_ethereum_mainnet_us.blocks AS b\n",
    "    CROSS JOIN UNNEST(withdrawals) AS w\n",
    ")\n",
    "SELECT\n",
    "  block_date,\n",
    "  bqutil.fn.bignumber_div(bqutil.fn.bignumber_sum(ARRAY_AGG(amount)), \"1000000000\") AS eth_withdrawn\n",
    "FROM\n",
    "  withdrawals\n",
    "GROUP BY 1 ORDER BY 1 DESC;"
   ]
  },
  {
   "cell_type": "markdown",
   "id": "4d5dc6b2-5d32-4001-93c7-e58fcc2693dd",
   "metadata": {},
   "source": [
    "### Total Staked ETH withdrawal using bigquery-public-data.goog_blockchain_ethereum_mainnet_us\n",
    "-- Lossy example"
   ]
  },
  {
   "cell_type": "code",
   "execution_count": 33,
   "id": "403c2f14-5a65-4c24-93bd-a5638feaf2c5",
   "metadata": {},
   "outputs": [
    {
     "data": {
      "application/vnd.jupyter.widget-view+json": {
       "model_id": "e803197eef0d42f4a66c04a1b379cfc7",
       "version_major": 2,
       "version_minor": 0
      },
      "text/plain": [
       "Query is running:   0%|          |"
      ]
     },
     "metadata": {},
     "output_type": "display_data"
    },
    {
     "data": {
      "application/vnd.jupyter.widget-view+json": {
       "model_id": "f327f19df54446529181e0d884672c4e",
       "version_major": 2,
       "version_minor": 0
      },
      "text/plain": [
       "Downloading:   0%|          |"
      ]
     },
     "metadata": {},
     "output_type": "display_data"
    },
    {
     "data": {
      "text/html": [
       "<div>\n",
       "<style scoped>\n",
       "    .dataframe tbody tr th:only-of-type {\n",
       "        vertical-align: middle;\n",
       "    }\n",
       "\n",
       "    .dataframe tbody tr th {\n",
       "        vertical-align: top;\n",
       "    }\n",
       "\n",
       "    .dataframe thead th {\n",
       "        text-align: right;\n",
       "    }\n",
       "</style>\n",
       "<table border=\"1\" class=\"dataframe\">\n",
       "  <thead>\n",
       "    <tr style=\"text-align: right;\">\n",
       "      <th></th>\n",
       "      <th>total_eth_withdrawn</th>\n",
       "    </tr>\n",
       "  </thead>\n",
       "  <tbody>\n",
       "    <tr>\n",
       "      <th>0</th>\n",
       "      <td>4.613736e+06</td>\n",
       "    </tr>\n",
       "  </tbody>\n",
       "</table>\n",
       "</div>"
      ],
      "text/plain": [
       "   total_eth_withdrawn\n",
       "0         4.613736e+06"
      ]
     },
     "execution_count": 33,
     "metadata": {},
     "output_type": "execute_result"
    }
   ],
   "source": [
    "%%bigquery\n",
    "\n",
    "\n",
    "WITH withdrawals AS (\n",
    "  SELECT\n",
    "    u.amount AS amount\n",
    "  FROM\n",
    "    bigquery-public-data.goog_blockchain_ethereum_mainnet_us.blocks\n",
    "    CROSS JOIN UNNEST(withdrawals) AS u\n",
    ")\n",
    "SELECT\n",
    "  SUM(withdrawals.amount) / POW(10,9) AS total_eth_withdrawn\n",
    "FROM\n",
    "  withdrawals;\n",
    "\n",
    "    "
   ]
  },
  {
   "cell_type": "markdown",
   "id": "e3ec5d2c-ee70-4264-8c06-c12261c62bd5",
   "metadata": {},
   "source": [
    "### Earned mining transaction fees since EIP-1559 using bigquery-public-data.goog_blockchain_ethereum_mainnet_us\n",
    "-- Since EIP-1559, the base fees of transactions are burned and the miners only earn the priority fees. \n",
    "-- The following query computes the total amount of fees earned by the miners since the London hard fork.\n"
   ]
  },
  {
   "cell_type": "code",
   "execution_count": 34,
   "id": "46c8d2a8-a758-4927-939e-aa094375713a",
   "metadata": {},
   "outputs": [
    {
     "data": {
      "application/vnd.jupyter.widget-view+json": {
       "model_id": "61a377d8aa224f3d841afa2d1f8a6c4b",
       "version_major": 2,
       "version_minor": 0
      },
      "text/plain": [
       "Query is running:   0%|          |"
      ]
     },
     "metadata": {},
     "output_type": "display_data"
    },
    {
     "data": {
      "application/vnd.jupyter.widget-view+json": {
       "model_id": "4acb8620f6594472941f210ef3dba141",
       "version_major": 2,
       "version_minor": 0
      },
      "text/plain": [
       "Downloading:   0%|          |"
      ]
     },
     "metadata": {},
     "output_type": "display_data"
    },
    {
     "data": {
      "text/html": [
       "<div>\n",
       "<style scoped>\n",
       "    .dataframe tbody tr th:only-of-type {\n",
       "        vertical-align: middle;\n",
       "    }\n",
       "\n",
       "    .dataframe tbody tr th {\n",
       "        vertical-align: top;\n",
       "    }\n",
       "\n",
       "    .dataframe thead th {\n",
       "        text-align: right;\n",
       "    }\n",
       "</style>\n",
       "<table border=\"1\" class=\"dataframe\">\n",
       "  <thead>\n",
       "    <tr style=\"text-align: right;\">\n",
       "      <th></th>\n",
       "      <th>f0_</th>\n",
       "    </tr>\n",
       "  </thead>\n",
       "  <tbody>\n",
       "    <tr>\n",
       "      <th>0</th>\n",
       "      <td>696702123772103932987572.000000000000000000000...</td>\n",
       "    </tr>\n",
       "  </tbody>\n",
       "</table>\n",
       "</div>"
      ],
      "text/plain": [
       "                                                 f0_\n",
       "0  696702123772103932987572.000000000000000000000..."
      ]
     },
     "execution_count": 34,
     "metadata": {},
     "output_type": "execute_result"
    }
   ],
   "source": [
    "    \n",
    "%%bigquery\n",
    "\n",
    "WITH tgas AS (\n",
    "  SELECT t.block_number, gas_used, effective_gas_price FROM\n",
    "    bigquery-public-data.goog_blockchain_ethereum_mainnet_us.receipts AS r\n",
    "    JOIN bigquery-public-data.goog_blockchain_ethereum_mainnet_us.transactions AS t\n",
    "    ON t.block_number = r.block_number AND t.transaction_hash = r.transaction_hash\n",
    ")\n",
    "SELECT\n",
    "  /* Cast needed to avoid INT64 overflow when doing multiplication. */\n",
    "  SUM(CAST(tgas.effective_gas_price - b.base_fee_per_gas AS BIGNUMERIC) * tgas.gas_used)\n",
    "FROM\n",
    "  bigquery-public-data.goog_blockchain_ethereum_mainnet_us.blocks b JOIN tgas\n",
    "  ON b.block_number = tgas.block_number\n",
    "WHERE\n",
    "  b.block_number >= 12965000 /* The London hard fork. */;"
   ]
  },
  {
   "cell_type": "markdown",
   "id": "f3573b63-3336-41d8-a86d-d24ca9a4de4c",
   "metadata": {},
   "source": [
    "### Top 10 USDC Account Balances using bigquery-public-data.goog_blockchain_ethereum_mainnet_us\n",
    "-- Analyze the current top holders of USDC tokens."
   ]
  },
  {
   "cell_type": "code",
   "execution_count": 35,
   "id": "a36e452a-6ecb-4001-ab62-efc3c04fd175",
   "metadata": {},
   "outputs": [
    {
     "data": {
      "application/vnd.jupyter.widget-view+json": {
       "model_id": "f32d5aa67f0b4367b97c6e521938c5fd",
       "version_major": 2,
       "version_minor": 0
      },
      "text/plain": [
       "Query is running:   0%|          |"
      ]
     },
     "metadata": {},
     "output_type": "display_data"
    },
    {
     "data": {
      "application/vnd.jupyter.widget-view+json": {
       "model_id": "7c99e2f21be345008ba4ef4c1bc2f7af",
       "version_major": 2,
       "version_minor": 0
      },
      "text/plain": [
       "Downloading:   0%|          |"
      ]
     },
     "metadata": {},
     "output_type": "display_data"
    },
    {
     "data": {
      "text/html": [
       "<div>\n",
       "<style scoped>\n",
       "    .dataframe tbody tr th:only-of-type {\n",
       "        vertical-align: middle;\n",
       "    }\n",
       "\n",
       "    .dataframe tbody tr th {\n",
       "        vertical-align: top;\n",
       "    }\n",
       "\n",
       "    .dataframe thead th {\n",
       "        text-align: right;\n",
       "    }\n",
       "</style>\n",
       "<table border=\"1\" class=\"dataframe\">\n",
       "  <thead>\n",
       "    <tr style=\"text-align: right;\">\n",
       "      <th></th>\n",
       "      <th>account</th>\n",
       "      <th>balance</th>\n",
       "    </tr>\n",
       "  </thead>\n",
       "  <tbody>\n",
       "    <tr>\n",
       "      <th>0</th>\n",
       "      <td>0xcee284f754e854890e311e3280b767f80797180d</td>\n",
       "      <td>676231270.70183400000000000000000000000000000000</td>\n",
       "    </tr>\n",
       "    <tr>\n",
       "      <th>1</th>\n",
       "      <td>0x40ec5b33f54e0e8a33a975908c5ba1c14e5bbbdf</td>\n",
       "      <td>635248844.66052400000000000000000000000000000000</td>\n",
       "    </tr>\n",
       "    <tr>\n",
       "      <th>2</th>\n",
       "      <td>0x0a59649758aa4d66e25f08dd01271e891fe52199</td>\n",
       "      <td>500932928.42373400000000000000000000000000000000</td>\n",
       "    </tr>\n",
       "    <tr>\n",
       "      <th>3</th>\n",
       "      <td>0x47ac0fb4f2d84898e4d9e7b4dab3c24507a6d503</td>\n",
       "      <td>422999999.84000000000000000000000000000000000000</td>\n",
       "    </tr>\n",
       "    <tr>\n",
       "      <th>4</th>\n",
       "      <td>0xd54f502e184b6b739d7d27a6410a67dc462d69c8</td>\n",
       "      <td>338757632.55989400000000000000000000000000000000</td>\n",
       "    </tr>\n",
       "    <tr>\n",
       "      <th>5</th>\n",
       "      <td>0x99c9fc46f92e8a1c0dec1b1747d010903e884be1</td>\n",
       "      <td>277929309.59330100000000000000000000000000000000</td>\n",
       "    </tr>\n",
       "    <tr>\n",
       "      <th>6</th>\n",
       "      <td>0xda9ce944a37d218c3302f6b82a094844c6eceb17</td>\n",
       "      <td>257000000.00000000000000000000000000000000000000</td>\n",
       "    </tr>\n",
       "    <tr>\n",
       "      <th>7</th>\n",
       "      <td>0x51edf02152ebfb338e03e30d65c15fbf06cc9ecc</td>\n",
       "      <td>230000000.00000200000000000000000000000000000000</td>\n",
       "    </tr>\n",
       "    <tr>\n",
       "      <th>8</th>\n",
       "      <td>0x7713974908be4bed47172370115e8b1219f4a5f0</td>\n",
       "      <td>218307714.86045700000000000000000000000000000000</td>\n",
       "    </tr>\n",
       "    <tr>\n",
       "      <th>9</th>\n",
       "      <td>0x68a99f89e475a078645f4bac491360afe255dff1</td>\n",
       "      <td>197291813.80663600000000000000000000000000000000</td>\n",
       "    </tr>\n",
       "  </tbody>\n",
       "</table>\n",
       "</div>"
      ],
      "text/plain": [
       "                                      account  \\\n",
       "0  0xcee284f754e854890e311e3280b767f80797180d   \n",
       "1  0x40ec5b33f54e0e8a33a975908c5ba1c14e5bbbdf   \n",
       "2  0x0a59649758aa4d66e25f08dd01271e891fe52199   \n",
       "3  0x47ac0fb4f2d84898e4d9e7b4dab3c24507a6d503   \n",
       "4  0xd54f502e184b6b739d7d27a6410a67dc462d69c8   \n",
       "5  0x99c9fc46f92e8a1c0dec1b1747d010903e884be1   \n",
       "6  0xda9ce944a37d218c3302f6b82a094844c6eceb17   \n",
       "7  0x51edf02152ebfb338e03e30d65c15fbf06cc9ecc   \n",
       "8  0x7713974908be4bed47172370115e8b1219f4a5f0   \n",
       "9  0x68a99f89e475a078645f4bac491360afe255dff1   \n",
       "\n",
       "                                            balance  \n",
       "0  676231270.70183400000000000000000000000000000000  \n",
       "1  635248844.66052400000000000000000000000000000000  \n",
       "2  500932928.42373400000000000000000000000000000000  \n",
       "3  422999999.84000000000000000000000000000000000000  \n",
       "4  338757632.55989400000000000000000000000000000000  \n",
       "5  277929309.59330100000000000000000000000000000000  \n",
       "6  257000000.00000000000000000000000000000000000000  \n",
       "7  230000000.00000200000000000000000000000000000000  \n",
       "8  218307714.86045700000000000000000000000000000000  \n",
       "9  197291813.80663600000000000000000000000000000000  "
      ]
     },
     "execution_count": 35,
     "metadata": {},
     "output_type": "execute_result"
    }
   ],
   "source": [
    "%%bigquery\n",
    "\n",
    "\n",
    "WITH Transfers AS (\n",
    "  SELECT address token, to_address account, 0 _out, CAST(quantity AS BIGNUMERIC) _in\n",
    "  FROM `bigquery-public-data.goog_blockchain_ethereum_mainnet_us.token_transfers`\n",
    "\n",
    "  UNION ALL\n",
    "\n",
    "  SELECT address token, from_address account, CAST(quantity AS BIGNUMERIC) _out, 0 _in\n",
    "  FROM `bigquery-public-data.goog_blockchain_ethereum_mainnet_us.token_transfers`\n",
    ")\n",
    "\n",
    "/* Top 10 Holders of USDC */\n",
    "SELECT account, (SUM(_in) - SUM(_out)) / 1000000 balance\n",
    "FROM Transfers\n",
    "WHERE token = '0xa0b86991c6218b36c1d19d4a2e9eb0ce3606eb48'\n",
    "GROUP BY account\n",
    "ORDER BY balance DESC\n",
    "LIMIT 10;"
   ]
  },
  {
   "cell_type": "markdown",
   "id": "7cc26b1c-bd03-4ba8-a735-d0980cb3b871",
   "metadata": {},
   "source": [
    "### Top 5 most active traders of BAYC tokens using bigquery-public-data.goog_blockchain_ethereum_mainnet_us\n",
    "-- Analyze which EOAs have transferred the most Bored Ape NFTs"
   ]
  },
  {
   "cell_type": "code",
   "execution_count": 36,
   "id": "4a9e89ab-4dc5-41af-bda4-6433a39e7b54",
   "metadata": {},
   "outputs": [
    {
     "data": {
      "application/vnd.jupyter.widget-view+json": {
       "model_id": "d01b139d7fd549efb151f72894ff1626",
       "version_major": 2,
       "version_minor": 0
      },
      "text/plain": [
       "Query is running:   0%|          |"
      ]
     },
     "metadata": {},
     "output_type": "display_data"
    },
    {
     "data": {
      "application/vnd.jupyter.widget-view+json": {
       "model_id": "2e897a09d91a43c1b13ca843e89b24f8",
       "version_major": 2,
       "version_minor": 0
      },
      "text/plain": [
       "Downloading:   0%|          |"
      ]
     },
     "metadata": {},
     "output_type": "display_data"
    },
    {
     "data": {
      "text/html": [
       "<div>\n",
       "<style scoped>\n",
       "    .dataframe tbody tr th:only-of-type {\n",
       "        vertical-align: middle;\n",
       "    }\n",
       "\n",
       "    .dataframe tbody tr th {\n",
       "        vertical-align: top;\n",
       "    }\n",
       "\n",
       "    .dataframe thead th {\n",
       "        text-align: right;\n",
       "    }\n",
       "</style>\n",
       "<table border=\"1\" class=\"dataframe\">\n",
       "  <thead>\n",
       "    <tr style=\"text-align: right;\">\n",
       "      <th></th>\n",
       "      <th>account</th>\n",
       "      <th>quantity</th>\n",
       "    </tr>\n",
       "  </thead>\n",
       "  <tbody>\n",
       "    <tr>\n",
       "      <th>0</th>\n",
       "      <td>0xed2ab4948ba6a909a7751dec4f34f303eb8c7236</td>\n",
       "      <td>6036</td>\n",
       "    </tr>\n",
       "    <tr>\n",
       "      <th>1</th>\n",
       "      <td>0x020ca66c30bec2c4fe3861a94e4db4a498a35872</td>\n",
       "      <td>2988</td>\n",
       "    </tr>\n",
       "    <tr>\n",
       "      <th>2</th>\n",
       "      <td>0xd387a6e4e84a6c86bd90c158c6028a58cc8ac459</td>\n",
       "      <td>2506</td>\n",
       "    </tr>\n",
       "    <tr>\n",
       "      <th>3</th>\n",
       "      <td>0x8ae57a027c63fca8070d1bf38622321de8004c67</td>\n",
       "      <td>2162</td>\n",
       "    </tr>\n",
       "    <tr>\n",
       "      <th>4</th>\n",
       "      <td>0x77e3e957082ca648c1c5b0f3e6aec00ab1245186</td>\n",
       "      <td>1128</td>\n",
       "    </tr>\n",
       "  </tbody>\n",
       "</table>\n",
       "</div>"
      ],
      "text/plain": [
       "                                      account  quantity\n",
       "0  0xed2ab4948ba6a909a7751dec4f34f303eb8c7236      6036\n",
       "1  0x020ca66c30bec2c4fe3861a94e4db4a498a35872      2988\n",
       "2  0xd387a6e4e84a6c86bd90c158c6028a58cc8ac459      2506\n",
       "3  0x8ae57a027c63fca8070d1bf38622321de8004c67      2162\n",
       "4  0x77e3e957082ca648c1c5b0f3e6aec00ab1245186      1128"
      ]
     },
     "execution_count": 36,
     "metadata": {},
     "output_type": "execute_result"
    }
   ],
   "source": [
    "%%bigquery\n",
    "\n",
    "\n",
    "WITH Transfers AS (\n",
    "  SELECT address AS token, to_address AS account, COUNT(*) transfer_count\n",
    "  FROM `bigquery-public-data.goog_blockchain_ethereum_mainnet_us.token_transfers`\n",
    "  GROUP BY token, account\n",
    "\n",
    "  UNION ALL\n",
    "\n",
    "  SELECT address AS token, from_address AS account, COUNT(*) transfer_count\n",
    "  FROM `bigquery-public-data.goog_blockchain_ethereum_mainnet_us.token_transfers`\n",
    "  WHERE from_address != '0x0000000000000000000000000000000000000000'\n",
    "  GROUP BY token, account\n",
    ")\n",
    "\n",
    "SELECT account, SUM(transfer_count) quantity\n",
    "FROM Transfers LEFT JOIN `bigquery-public-data.goog_blockchain_ethereum_mainnet_us.accounts` ON account = address\n",
    "WHERE NOT is_contract AND token = '0xbc4ca0eda7647a8ab7c2061c2e118a18a936f13d' /* BAYC */\n",
    "GROUP BY account\n",
    "ORDER BY quantity DESC\n",
    "LIMIT 5;"
   ]
  },
  {
   "cell_type": "markdown",
   "id": "65767f0a-0114-4172-9b5d-213117c86b21",
   "metadata": {},
   "source": [
    "### Etherium Balance for BAYC using bigquery-public-data.crypto_ethereum"
   ]
  },
  {
   "cell_type": "code",
   "execution_count": 37,
   "id": "9bdccc2b-7538-448b-98e3-1fdaa99b2884",
   "metadata": {},
   "outputs": [
    {
     "data": {
      "application/vnd.jupyter.widget-view+json": {
       "model_id": "3653e49423df473fa2f38f746e2eaf33",
       "version_major": 2,
       "version_minor": 0
      },
      "text/plain": [
       "Query is running:   0%|          |"
      ]
     },
     "metadata": {},
     "output_type": "display_data"
    },
    {
     "data": {
      "application/vnd.jupyter.widget-view+json": {
       "model_id": "51d239edd68d4bdf849d849e54a399b5",
       "version_major": 2,
       "version_minor": 0
      },
      "text/plain": [
       "Downloading:   0%|          |"
      ]
     },
     "metadata": {},
     "output_type": "display_data"
    },
    {
     "data": {
      "text/html": [
       "<div>\n",
       "<style scoped>\n",
       "    .dataframe tbody tr th:only-of-type {\n",
       "        vertical-align: middle;\n",
       "    }\n",
       "\n",
       "    .dataframe tbody tr th {\n",
       "        vertical-align: top;\n",
       "    }\n",
       "\n",
       "    .dataframe thead th {\n",
       "        text-align: right;\n",
       "    }\n",
       "</style>\n",
       "<table border=\"1\" class=\"dataframe\">\n",
       "  <thead>\n",
       "    <tr style=\"text-align: right;\">\n",
       "      <th></th>\n",
       "      <th>address</th>\n",
       "      <th>eth_balance</th>\n",
       "    </tr>\n",
       "  </thead>\n",
       "  <tbody>\n",
       "    <tr>\n",
       "      <th>0</th>\n",
       "      <td>0xbc4ca0eda7647a8ab7c2061c2e118a18a936f13d</td>\n",
       "      <td>10201000000000000.000000000</td>\n",
       "    </tr>\n",
       "  </tbody>\n",
       "</table>\n",
       "</div>"
      ],
      "text/plain": [
       "                                      address                  eth_balance\n",
       "0  0xbc4ca0eda7647a8ab7c2061c2e118a18a936f13d  10201000000000000.000000000"
      ]
     },
     "execution_count": 37,
     "metadata": {},
     "output_type": "execute_result"
    }
   ],
   "source": [
    "%%bigquery\n",
    "\n",
    "SELECT *\n",
    "FROM `bigquery-public-data.crypto_ethereum.balances`\n",
    "WHERE SEARCH(address, '0xbc4ca0eda7647a8ab7c2061c2e118a18a936f13d', analyzer=>'NO_OP_ANALYZER'); /* BAYC */"
   ]
  },
  {
   "cell_type": "markdown",
   "id": "c2275d62-6d30-4bd9-b690-b5d2c77295b6",
   "metadata": {},
   "source": [
    "### Transaction throughput comparison using \n",
    "bigquery-public-data.crypto_bitcoin_cash, bigquery-public-data.crypto_ethereum, bigquery-public-data.crypto_ethereum_classic, bigquery-public-data.crypto_dogecoin and others"
   ]
  },
  {
   "cell_type": "code",
   "execution_count": 38,
   "id": "a7ad8b14-72e7-4f1e-976f-57b3a4f66a24",
   "metadata": {},
   "outputs": [
    {
     "data": {
      "application/vnd.jupyter.widget-view+json": {
       "model_id": "811aa858c317482c9c39443c2bb1485e",
       "version_major": 2,
       "version_minor": 0
      },
      "text/plain": [
       "Query is running:   0%|          |"
      ]
     },
     "metadata": {},
     "output_type": "display_data"
    },
    {
     "data": {
      "application/vnd.jupyter.widget-view+json": {
       "model_id": "fc5d2c5a87804ddc9bc79aaccb3ab2df",
       "version_major": 2,
       "version_minor": 0
      },
      "text/plain": [
       "Downloading:   0%|          |"
      ]
     },
     "metadata": {},
     "output_type": "display_data"
    },
    {
     "data": {
      "text/html": [
       "<div>\n",
       "<style scoped>\n",
       "    .dataframe tbody tr th:only-of-type {\n",
       "        vertical-align: middle;\n",
       "    }\n",
       "\n",
       "    .dataframe tbody tr th {\n",
       "        vertical-align: top;\n",
       "    }\n",
       "\n",
       "    .dataframe thead th {\n",
       "        text-align: right;\n",
       "    }\n",
       "</style>\n",
       "<table border=\"1\" class=\"dataframe\">\n",
       "  <thead>\n",
       "    <tr style=\"text-align: right;\">\n",
       "      <th></th>\n",
       "      <th>chain</th>\n",
       "      <th>throughput</th>\n",
       "      <th>time</th>\n",
       "    </tr>\n",
       "  </thead>\n",
       "  <tbody>\n",
       "    <tr>\n",
       "      <th>0</th>\n",
       "      <td>bitcoin_cash</td>\n",
       "      <td>281.999676</td>\n",
       "      <td>2018-11-10 14:34:35+00:00</td>\n",
       "    </tr>\n",
       "    <tr>\n",
       "      <th>1</th>\n",
       "      <td>ethereum</td>\n",
       "      <td>116.875451</td>\n",
       "      <td>2022-12-23 20:18:59+00:00</td>\n",
       "    </tr>\n",
       "    <tr>\n",
       "      <th>2</th>\n",
       "      <td>dash</td>\n",
       "      <td>67.076319</td>\n",
       "      <td>2020-03-16 00:05:13+00:00</td>\n",
       "    </tr>\n",
       "    <tr>\n",
       "      <th>3</th>\n",
       "      <td>dogecoin</td>\n",
       "      <td>66.679549</td>\n",
       "      <td>2023-05-30 13:27:05+00:00</td>\n",
       "    </tr>\n",
       "    <tr>\n",
       "      <th>4</th>\n",
       "      <td>litecoin</td>\n",
       "      <td>49.419167</td>\n",
       "      <td>2019-11-02 18:43:59+00:00</td>\n",
       "    </tr>\n",
       "    <tr>\n",
       "      <th>5</th>\n",
       "      <td>ethereum_classic</td>\n",
       "      <td>23.739896</td>\n",
       "      <td>2019-01-13 08:09:56+00:00</td>\n",
       "    </tr>\n",
       "    <tr>\n",
       "      <th>6</th>\n",
       "      <td>bitcoin</td>\n",
       "      <td>21.956539</td>\n",
       "      <td>2015-08-01 01:06:41+00:00</td>\n",
       "    </tr>\n",
       "    <tr>\n",
       "      <th>7</th>\n",
       "      <td>zcash</td>\n",
       "      <td>7.876435</td>\n",
       "      <td>2018-08-03 02:08:54+00:00</td>\n",
       "    </tr>\n",
       "  </tbody>\n",
       "</table>\n",
       "</div>"
      ],
      "text/plain": [
       "              chain  throughput                      time\n",
       "0      bitcoin_cash  281.999676 2018-11-10 14:34:35+00:00\n",
       "1          ethereum  116.875451 2022-12-23 20:18:59+00:00\n",
       "2              dash   67.076319 2020-03-16 00:05:13+00:00\n",
       "3          dogecoin   66.679549 2023-05-30 13:27:05+00:00\n",
       "4          litecoin   49.419167 2019-11-02 18:43:59+00:00\n",
       "5  ethereum_classic   23.739896 2019-01-13 08:09:56+00:00\n",
       "6           bitcoin   21.956539 2015-08-01 01:06:41+00:00\n",
       "7             zcash    7.876435 2018-08-03 02:08:54+00:00"
      ]
     },
     "execution_count": 38,
     "metadata": {},
     "output_type": "execute_result"
    }
   ],
   "source": [
    "%%bigquery\n",
    "\n",
    "\n",
    "WITH bitcoin_throughput AS (\n",
    "    -- takes transactions count in every block and divides it by average block time on that day\n",
    "    SELECT 'bitcoin' AS chain, count(*) / (24 * 60 * 60 / count(*) OVER (PARTITION BY DATE(block_timestamp))) AS throughput, block_timestamp AS time\n",
    "    FROM `bigquery-public-data.crypto_bitcoin.transactions` AS transactions\n",
    "    GROUP BY transactions.block_number, transactions.block_timestamp\n",
    "    ORDER BY throughput DESC\n",
    "    LIMIT 1\n",
    "),\n",
    "bitcoin_cash_throughput AS (\n",
    "    SELECT 'bitcoin_cash' AS chain, count(*) / (24 * 60 * 60 / count(*) OVER (PARTITION BY DATE(block_timestamp))) AS throughput, block_timestamp AS time\n",
    "    FROM `bigquery-public-data.crypto_bitcoin_cash.transactions` AS transactions\n",
    "    GROUP BY transactions.block_number, transactions.block_timestamp\n",
    "    ORDER BY throughput DESC\n",
    "    LIMIT 1\n",
    "),\n",
    "ethereum_throughput AS (\n",
    "    SELECT 'ethereum' AS chain, count(*) / (24 * 60 * 60 / count(*) OVER (PARTITION BY DATE(block_timestamp))) AS throughput, block_timestamp AS time\n",
    "    FROM `bigquery-public-data.crypto_ethereum.transactions` AS transactions\n",
    "    GROUP BY transactions.block_number, transactions.block_timestamp\n",
    "    ORDER BY throughput DESC\n",
    "    LIMIT 1\n",
    "),\n",
    "ethereum_classic_throughput AS (\n",
    "    SELECT 'ethereum_classic' AS chain, count(*) / (24 * 60 * 60 / count(*) OVER (PARTITION BY DATE(block_timestamp))) AS throughput, block_timestamp AS time\n",
    "    FROM `bigquery-public-data.crypto_ethereum_classic.transactions` AS transactions\n",
    "    GROUP BY transactions.block_number, transactions.block_timestamp\n",
    "    ORDER BY throughput DESC\n",
    "    LIMIT 1\n",
    "),\n",
    "dogecoin_throughput AS (\n",
    "    SELECT 'dogecoin' AS chain, count(*) / (24 * 60 * 60 / count(*) OVER (PARTITION BY DATE(block_timestamp))) AS throughput, block_timestamp AS time\n",
    "    FROM `bigquery-public-data.crypto_dogecoin.transactions` AS transactions\n",
    "    GROUP BY transactions.block_number, transactions.block_timestamp\n",
    "    ORDER BY throughput DESC\n",
    "    LIMIT 1\n",
    "),\n",
    "litecoin_throughput AS (\n",
    "    SELECT 'litecoin' AS chain, count(*) / (24 * 60 * 60 / count(*) OVER (PARTITION BY DATE(block_timestamp))) AS throughput, block_timestamp AS time\n",
    "    FROM `bigquery-public-data.crypto_litecoin.transactions` AS transactions\n",
    "    GROUP BY transactions.block_number, transactions.block_timestamp\n",
    "    ORDER BY throughput DESC\n",
    "    LIMIT 1\n",
    "),\n",
    "dash_throughput AS (\n",
    "    SELECT 'dash' AS chain, count(*) / (24 * 60 * 60 / count(*) OVER (PARTITION BY DATE(block_timestamp))) AS throughput, block_timestamp AS time\n",
    "    FROM `bigquery-public-data.crypto_dash.transactions` AS transactions\n",
    "    GROUP BY transactions.block_number, transactions.block_timestamp\n",
    "    ORDER BY throughput DESC\n",
    "    LIMIT 1\n",
    "),\n",
    "zcash_throughput AS (\n",
    "    SELECT 'zcash' AS chain, count(*) / (24 * 60 * 60 / count(*) OVER (PARTITION BY DATE(block_timestamp))) AS throughput, block_timestamp AS time\n",
    "    FROM `bigquery-public-data.crypto_zcash.transactions` AS transactions\n",
    "    GROUP BY transactions.block_number, transactions.block_timestamp\n",
    "    ORDER BY throughput DESC\n",
    "    LIMIT 1\n",
    ")\n",
    "SELECT * FROM bitcoin_throughput\n",
    "UNION ALL\n",
    "SELECT * FROM bitcoin_cash_throughput\n",
    "UNION ALL\n",
    "SELECT * FROM ethereum_throughput\n",
    "UNION ALL\n",
    "SELECT * FROM ethereum_classic_throughput\n",
    "UNION ALL\n",
    "SELECT * FROM dogecoin_throughput\n",
    "UNION ALL\n",
    "SELECT * FROM litecoin_throughput\n",
    "UNION ALL\n",
    "SELECT * FROM dash_throughput\n",
    "UNION ALL\n",
    "SELECT * FROM zcash_throughput\n",
    "ORDER BY throughput DESC;\n",
    "\n"
   ]
  },
  {
   "cell_type": "markdown",
   "id": "6e0e00de-7153-450e-9622-31c9323c9e12",
   "metadata": {},
   "source": [
    "### Ethereum Supply By Day using bigquery-public-data.crypto_ethereum"
   ]
  },
  {
   "cell_type": "code",
   "execution_count": 40,
   "id": "069e0013-9ab8-4b0b-9089-f484abf457eb",
   "metadata": {},
   "outputs": [
    {
     "data": {
      "application/vnd.jupyter.widget-view+json": {
       "model_id": "b2dc7efe5004489dbd0b29651eb0cd60",
       "version_major": 2,
       "version_minor": 0
      },
      "text/plain": [
       "Query is running:   0%|          |"
      ]
     },
     "metadata": {},
     "output_type": "display_data"
    },
    {
     "data": {
      "application/vnd.jupyter.widget-view+json": {
       "model_id": "25cc76168ce34d3882ed2cf0f6da5758",
       "version_major": 2,
       "version_minor": 0
      },
      "text/plain": [
       "Downloading:   0%|          |"
      ]
     },
     "metadata": {},
     "output_type": "display_data"
    },
    {
     "data": {
      "text/html": [
       "<div>\n",
       "<style scoped>\n",
       "    .dataframe tbody tr th:only-of-type {\n",
       "        vertical-align: middle;\n",
       "    }\n",
       "\n",
       "    .dataframe tbody tr th {\n",
       "        vertical-align: top;\n",
       "    }\n",
       "\n",
       "    .dataframe thead th {\n",
       "        text-align: right;\n",
       "    }\n",
       "</style>\n",
       "<table border=\"1\" class=\"dataframe\">\n",
       "  <thead>\n",
       "    <tr style=\"text-align: right;\">\n",
       "      <th></th>\n",
       "      <th>date</th>\n",
       "      <th>supply</th>\n",
       "    </tr>\n",
       "  </thead>\n",
       "  <tbody>\n",
       "    <tr>\n",
       "      <th>0</th>\n",
       "      <td>1970-01-01</td>\n",
       "      <td>7.200999e+07</td>\n",
       "    </tr>\n",
       "    <tr>\n",
       "      <th>1</th>\n",
       "      <td>2015-07-30</td>\n",
       "      <td>7.204930e+07</td>\n",
       "    </tr>\n",
       "    <tr>\n",
       "      <th>2</th>\n",
       "      <td>2015-07-31</td>\n",
       "      <td>7.208549e+07</td>\n",
       "    </tr>\n",
       "    <tr>\n",
       "      <th>3</th>\n",
       "      <td>2015-08-01</td>\n",
       "      <td>7.211320e+07</td>\n",
       "    </tr>\n",
       "    <tr>\n",
       "      <th>4</th>\n",
       "      <td>2015-08-02</td>\n",
       "      <td>7.214142e+07</td>\n",
       "    </tr>\n",
       "    <tr>\n",
       "      <th>...</th>\n",
       "      <td>...</td>\n",
       "      <td>...</td>\n",
       "    </tr>\n",
       "    <tr>\n",
       "      <th>2888</th>\n",
       "      <td>2023-06-25</td>\n",
       "      <td>1.223739e+08</td>\n",
       "    </tr>\n",
       "    <tr>\n",
       "      <th>2889</th>\n",
       "      <td>2023-06-26</td>\n",
       "      <td>1.223739e+08</td>\n",
       "    </tr>\n",
       "    <tr>\n",
       "      <th>2890</th>\n",
       "      <td>2023-06-27</td>\n",
       "      <td>1.223739e+08</td>\n",
       "    </tr>\n",
       "    <tr>\n",
       "      <th>2891</th>\n",
       "      <td>2023-06-28</td>\n",
       "      <td>1.223739e+08</td>\n",
       "    </tr>\n",
       "    <tr>\n",
       "      <th>2892</th>\n",
       "      <td>2023-06-29</td>\n",
       "      <td>1.223739e+08</td>\n",
       "    </tr>\n",
       "  </tbody>\n",
       "</table>\n",
       "<p>2893 rows × 2 columns</p>\n",
       "</div>"
      ],
      "text/plain": [
       "            date        supply\n",
       "0     1970-01-01  7.200999e+07\n",
       "1     2015-07-30  7.204930e+07\n",
       "2     2015-07-31  7.208549e+07\n",
       "3     2015-08-01  7.211320e+07\n",
       "4     2015-08-02  7.214142e+07\n",
       "...          ...           ...\n",
       "2888  2023-06-25  1.223739e+08\n",
       "2889  2023-06-26  1.223739e+08\n",
       "2890  2023-06-27  1.223739e+08\n",
       "2891  2023-06-28  1.223739e+08\n",
       "2892  2023-06-29  1.223739e+08\n",
       "\n",
       "[2893 rows x 2 columns]"
      ]
     },
     "execution_count": 40,
     "metadata": {},
     "output_type": "execute_result"
    }
   ],
   "source": [
    "%%bigquery\n",
    "\n",
    "\n",
    "WITH ether_emitted_by_date  AS (\n",
    "  SELECT date(block_timestamp) AS date, SUM(value) AS value\n",
    "  FROM `bigquery-public-data.crypto_ethereum.traces`\n",
    "  WHERE trace_type IN ('genesis', 'reward')\n",
    "  GROUP BY DATE(block_timestamp)\n",
    ")\n",
    "SELECT date, SUM(value) OVER (ORDER BY date) / POWER(10, 18) AS supply\n",
    "FROM ether_emitted_by_date;\n"
   ]
  },
  {
   "cell_type": "code",
   "execution_count": null,
   "id": "e9fe1bf9-acc4-4c6f-b6c8-510a780c140d",
   "metadata": {},
   "outputs": [],
   "source": [
    "### Every Ethereum balance every day\n",
    "### Will take long to execute"
   ]
  },
  {
   "cell_type": "code",
   "execution_count": null,
   "id": "e26a1186-6416-4c0d-9558-dcc50e57ee03",
   "metadata": {},
   "outputs": [],
   "source": [
    "%%bigquery\n",
    "\n",
    "\n",
    "WITH double_entry_book AS (\n",
    "    -- debits\n",
    "    SELECT to_address AS address, value AS value, block_timestamp\n",
    "    FROM `bigquery-public-data.crypto_ethereum.traces`\n",
    "    WHERE to_address IS NOT NULL\n",
    "    AND status = 1\n",
    "    AND (call_type NOT IN ('delegatecall', 'callcode', 'staticcall') OR call_type IS NULL)\n",
    "    UNION ALL\n",
    "    -- credits\n",
    "    SELECT from_address AS address, -value AS value, block_timestamp\n",
    "    FROM `bigquery-public-data.crypto_ethereum.traces`\n",
    "    WHERE from_address IS NOT NULL\n",
    "    AND status = 1\n",
    "    AND (call_type NOT IN ('delegatecall', 'callcode', 'staticcall') OR call_type IS NULL)\n",
    "    UNION ALL\n",
    "    -- transaction fees debits\n",
    "    SELECT \n",
    "        miner AS address, \n",
    "        SUM(CAST(receipt_gas_used AS numeric) * CAST((receipt_effective_gas_price - COALESCE(base_fee_per_gas, 0)) AS numeric)) AS value,\n",
    "        block_timestamp\n",
    "    FROM `bigquery-public-data.crypto_ethereum.transactions` AS transactions\n",
    "    JOIN `bigquery-public-data.crypto_ethereum.blocks` AS blocks ON blocks.number = transactions.block_number\n",
    "    GROUP BY blocks.number, blocks.miner, block_timestamp\n",
    "    UNION ALL\n",
    "    -- transaction fees credits\n",
    "    SELECT \n",
    "        from_address AS address, \n",
    "        -(CAST(receipt_gas_used AS numeric) * CAST(receipt_effective_gas_price AS numeric)) AS value,\n",
    "        block_timestamp\n",
    "    FROM `bigquery-public-data.crypto_ethereum.transactions`\n",
    "),\n",
    "double_entry_book_grouped_by_date AS (\n",
    "    SELECT address, SUM(value) AS balance_increment, DATE(block_timestamp) AS date\n",
    "    FROM double_entry_book\n",
    "    GROUP BY address, date\n",
    "),\n",
    "daily_balances_with_gaps AS (\n",
    "    SELECT address, date, SUM(balance_increment) OVER (PARTITION BY address ORDER BY date) AS balance,\n",
    "    LEAD(date, 1, CURRENT_DATE()) OVER (PARTITION BY address ORDER BY date) AS next_date\n",
    "    FROM double_entry_book_grouped_by_date\n",
    "),\n",
    "calendar AS (\n",
    "    SELECT date FROM UNNEST(GENERATE_DATE_ARRAY('2015-07-30', CURRENT_DATE())) AS date\n",
    "),\n",
    "daily_balances AS (\n",
    "    SELECT address, calendar.date, balance\n",
    "    FROM daily_balances_with_gaps\n",
    "    JOIN calendar ON daily_balances_with_gaps.date <= calendar.date AND calendar.date < daily_balances_with_gaps.next_date\n",
    ")\n",
    "SELECT address, date, balance\n",
    "FROM daily_balances;\n"
   ]
  },
  {
   "cell_type": "code",
   "execution_count": null,
   "id": "734e02a9-f55b-4bb7-8420-08e4679c5e2d",
   "metadata": {},
   "outputs": [],
   "source": [
    "# www.nansen.ai maintains the bigquery-public-data.crypto_ethereum"
   ]
  },
  {
   "cell_type": "code",
   "execution_count": null,
   "id": "e20de610-459e-4893-9503-a718c3d55d17",
   "metadata": {},
   "outputs": [],
   "source": [
    "# https://github.com/blockchain-etl/awesome-bigquery-views"
   ]
  },
  {
   "cell_type": "code",
   "execution_count": 42,
   "id": "401181b9-1904-46ef-a3d3-c0af5ca7f0da",
   "metadata": {},
   "outputs": [],
   "source": [
    "# https://cloud.google.com/blockchain-analytics/docs/example-ethereum"
   ]
  },
  {
   "cell_type": "code",
   "execution_count": 41,
   "id": "fa6a08fe-6b64-445b-a877-3aa17dadcc64",
   "metadata": {},
   "outputs": [],
   "source": [
    "# https://cloud.google.com/blockchain-analytics/docs/example-applications"
   ]
  },
  {
   "cell_type": "code",
   "execution_count": null,
   "id": "4c1a4afb-4fee-4a2c-8baf-0615195691ff",
   "metadata": {},
   "outputs": [],
   "source": [
    "# https://medium.com/google-cloud/live-ethereum-and-bitcoin-data-in-google-bigquery-and-pub-sub-765b71cd57b5 (Live Etherium Data)"
   ]
  }
 ],
 "metadata": {
  "environment": {
   "kernel": "python3",
   "name": "tf2-gpu.2-11.m110",
   "type": "gcloud",
   "uri": "gcr.io/deeplearning-platform-release/tf2-gpu.2-11:m110"
  },
  "kernelspec": {
   "display_name": "Python 3",
   "language": "python",
   "name": "python3"
  },
  "language_info": {
   "codemirror_mode": {
    "name": "ipython",
    "version": 3
   },
   "file_extension": ".py",
   "mimetype": "text/x-python",
   "name": "python",
   "nbconvert_exporter": "python",
   "pygments_lexer": "ipython3",
   "version": "3.10.12"
  }
 },
 "nbformat": 4,
 "nbformat_minor": 5
}
