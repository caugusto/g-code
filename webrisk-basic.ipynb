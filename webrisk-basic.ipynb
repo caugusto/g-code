{
 "cells": [
  {
   "cell_type": "code",
   "execution_count": null,
   "id": "dd714150-d7dd-4ded-9c2e-a35d09b032b5",
   "metadata": {},
   "outputs": [],
   "source": [
    "# Enable the webrisk api"
   ]
  },
  {
   "cell_type": "code",
   "execution_count": null,
   "id": "7f33c365-29c2-4a73-aef7-eaf78f35c720",
   "metadata": {},
   "outputs": [],
   "source": [
    "# Submit test\n"
   ]
  },
  {
   "cell_type": "code",
   "execution_count": 1,
   "id": "919abd9f-9ce4-4abb-b42f-94f98b960a19",
   "metadata": {},
   "outputs": [
    {
     "name": "stdout",
     "output_type": "stream",
     "text": [
      "\u001b[33mWARNING: Ignoring invalid distribution -oogle-cloud-aiplatform (/opt/conda/lib/python3.10/site-packages)\u001b[0m\u001b[33m\n",
      "\u001b[0mCollecting google-cloud-webrisk\n",
      "  Obtaining dependency information for google-cloud-webrisk from https://files.pythonhosted.org/packages/aa/7a/038e70b2ceca49d9c03d09a9665f7469fe962e38cff2a6062844613e33a2/google_cloud_webrisk-1.12.2-py2.py3-none-any.whl.metadata\n",
      "  Downloading google_cloud_webrisk-1.12.2-py2.py3-none-any.whl.metadata (5.5 kB)\n",
      "Requirement already satisfied: google-api-core[grpc]!=2.0.*,!=2.1.*,!=2.10.*,!=2.2.*,!=2.3.*,!=2.4.*,!=2.5.*,!=2.6.*,!=2.7.*,!=2.8.*,!=2.9.*,<3.0.0dev,>=1.34.0 in /opt/conda/lib/python3.10/site-packages (from google-cloud-webrisk) (2.11.1)\n",
      "Requirement already satisfied: proto-plus<2.0.0dev,>=1.22.0 in /opt/conda/lib/python3.10/site-packages (from google-cloud-webrisk) (1.22.3)\n",
      "Requirement already satisfied: protobuf!=3.20.0,!=3.20.1,!=4.21.0,!=4.21.1,!=4.21.2,!=4.21.3,!=4.21.4,!=4.21.5,<5.0.0dev,>=3.19.5 in /opt/conda/lib/python3.10/site-packages (from google-cloud-webrisk) (3.19.6)\n",
      "Requirement already satisfied: googleapis-common-protos<2.0.dev0,>=1.56.2 in /opt/conda/lib/python3.10/site-packages (from google-api-core[grpc]!=2.0.*,!=2.1.*,!=2.10.*,!=2.2.*,!=2.3.*,!=2.4.*,!=2.5.*,!=2.6.*,!=2.7.*,!=2.8.*,!=2.9.*,<3.0.0dev,>=1.34.0->google-cloud-webrisk) (1.60.0)\n",
      "Requirement already satisfied: google-auth<3.0.dev0,>=2.14.1 in /opt/conda/lib/python3.10/site-packages (from google-api-core[grpc]!=2.0.*,!=2.1.*,!=2.10.*,!=2.2.*,!=2.3.*,!=2.4.*,!=2.5.*,!=2.6.*,!=2.7.*,!=2.8.*,!=2.9.*,<3.0.0dev,>=1.34.0->google-cloud-webrisk) (2.22.0)\n",
      "Requirement already satisfied: requests<3.0.0.dev0,>=2.18.0 in /opt/conda/lib/python3.10/site-packages (from google-api-core[grpc]!=2.0.*,!=2.1.*,!=2.10.*,!=2.2.*,!=2.3.*,!=2.4.*,!=2.5.*,!=2.6.*,!=2.7.*,!=2.8.*,!=2.9.*,<3.0.0dev,>=1.34.0->google-cloud-webrisk) (2.31.0)\n",
      "Requirement already satisfied: grpcio<2.0dev,>=1.33.2 in /opt/conda/lib/python3.10/site-packages (from google-api-core[grpc]!=2.0.*,!=2.1.*,!=2.10.*,!=2.2.*,!=2.3.*,!=2.4.*,!=2.5.*,!=2.6.*,!=2.7.*,!=2.8.*,!=2.9.*,<3.0.0dev,>=1.34.0->google-cloud-webrisk) (1.48.1)\n",
      "Requirement already satisfied: grpcio-status<2.0.dev0,>=1.33.2 in /opt/conda/lib/python3.10/site-packages (from google-api-core[grpc]!=2.0.*,!=2.1.*,!=2.10.*,!=2.2.*,!=2.3.*,!=2.4.*,!=2.5.*,!=2.6.*,!=2.7.*,!=2.8.*,!=2.9.*,<3.0.0dev,>=1.34.0->google-cloud-webrisk) (1.48.1)\n",
      "Requirement already satisfied: cachetools<6.0,>=2.0.0 in /opt/conda/lib/python3.10/site-packages (from google-auth<3.0.dev0,>=2.14.1->google-api-core[grpc]!=2.0.*,!=2.1.*,!=2.10.*,!=2.2.*,!=2.3.*,!=2.4.*,!=2.5.*,!=2.6.*,!=2.7.*,!=2.8.*,!=2.9.*,<3.0.0dev,>=1.34.0->google-cloud-webrisk) (4.2.4)\n",
      "Requirement already satisfied: pyasn1-modules>=0.2.1 in /opt/conda/lib/python3.10/site-packages (from google-auth<3.0.dev0,>=2.14.1->google-api-core[grpc]!=2.0.*,!=2.1.*,!=2.10.*,!=2.2.*,!=2.3.*,!=2.4.*,!=2.5.*,!=2.6.*,!=2.7.*,!=2.8.*,!=2.9.*,<3.0.0dev,>=1.34.0->google-cloud-webrisk) (0.2.7)\n",
      "Requirement already satisfied: rsa<5,>=3.1.4 in /opt/conda/lib/python3.10/site-packages (from google-auth<3.0.dev0,>=2.14.1->google-api-core[grpc]!=2.0.*,!=2.1.*,!=2.10.*,!=2.2.*,!=2.3.*,!=2.4.*,!=2.5.*,!=2.6.*,!=2.7.*,!=2.8.*,!=2.9.*,<3.0.0dev,>=1.34.0->google-cloud-webrisk) (4.9)\n",
      "Requirement already satisfied: six>=1.9.0 in /opt/conda/lib/python3.10/site-packages (from google-auth<3.0.dev0,>=2.14.1->google-api-core[grpc]!=2.0.*,!=2.1.*,!=2.10.*,!=2.2.*,!=2.3.*,!=2.4.*,!=2.5.*,!=2.6.*,!=2.7.*,!=2.8.*,!=2.9.*,<3.0.0dev,>=1.34.0->google-cloud-webrisk) (1.16.0)\n",
      "Requirement already satisfied: urllib3<2.0 in /opt/conda/lib/python3.10/site-packages (from google-auth<3.0.dev0,>=2.14.1->google-api-core[grpc]!=2.0.*,!=2.1.*,!=2.10.*,!=2.2.*,!=2.3.*,!=2.4.*,!=2.5.*,!=2.6.*,!=2.7.*,!=2.8.*,!=2.9.*,<3.0.0dev,>=1.34.0->google-cloud-webrisk) (1.26.15)\n",
      "Requirement already satisfied: charset-normalizer<4,>=2 in /opt/conda/lib/python3.10/site-packages (from requests<3.0.0.dev0,>=2.18.0->google-api-core[grpc]!=2.0.*,!=2.1.*,!=2.10.*,!=2.2.*,!=2.3.*,!=2.4.*,!=2.5.*,!=2.6.*,!=2.7.*,!=2.8.*,!=2.9.*,<3.0.0dev,>=1.34.0->google-cloud-webrisk) (3.2.0)\n",
      "Requirement already satisfied: idna<4,>=2.5 in /opt/conda/lib/python3.10/site-packages (from requests<3.0.0.dev0,>=2.18.0->google-api-core[grpc]!=2.0.*,!=2.1.*,!=2.10.*,!=2.2.*,!=2.3.*,!=2.4.*,!=2.5.*,!=2.6.*,!=2.7.*,!=2.8.*,!=2.9.*,<3.0.0dev,>=1.34.0->google-cloud-webrisk) (3.4)\n",
      "Requirement already satisfied: certifi>=2017.4.17 in /opt/conda/lib/python3.10/site-packages (from requests<3.0.0.dev0,>=2.18.0->google-api-core[grpc]!=2.0.*,!=2.1.*,!=2.10.*,!=2.2.*,!=2.3.*,!=2.4.*,!=2.5.*,!=2.6.*,!=2.7.*,!=2.8.*,!=2.9.*,<3.0.0dev,>=1.34.0->google-cloud-webrisk) (2023.7.22)\n",
      "Requirement already satisfied: pyasn1<0.5.0,>=0.4.6 in /opt/conda/lib/python3.10/site-packages (from pyasn1-modules>=0.2.1->google-auth<3.0.dev0,>=2.14.1->google-api-core[grpc]!=2.0.*,!=2.1.*,!=2.10.*,!=2.2.*,!=2.3.*,!=2.4.*,!=2.5.*,!=2.6.*,!=2.7.*,!=2.8.*,!=2.9.*,<3.0.0dev,>=1.34.0->google-cloud-webrisk) (0.4.8)\n",
      "Downloading google_cloud_webrisk-1.12.2-py2.py3-none-any.whl (93 kB)\n",
      "\u001b[2K   \u001b[90m━━━━━━━━━━━━━━━━━━━━━━━━━━━━━━━━━━━━━━━━\u001b[0m \u001b[32m93.7/93.7 kB\u001b[0m \u001b[31m8.9 MB/s\u001b[0m eta \u001b[36m0:00:00\u001b[0m\n",
      "\u001b[?25h\u001b[33mWARNING: Ignoring invalid distribution -oogle-cloud-aiplatform (/opt/conda/lib/python3.10/site-packages)\u001b[0m\u001b[33m\n",
      "\u001b[0mInstalling collected packages: google-cloud-webrisk\n",
      "Successfully installed google-cloud-webrisk-1.12.2\n"
     ]
    }
   ],
   "source": [
    "!pip install google-cloud-webrisk"
   ]
  },
  {
   "cell_type": "code",
   "execution_count": 9,
   "id": "4783ee42-d320-4756-a770-4dade9d37eec",
   "metadata": {},
   "outputs": [
    {
     "name": "stdout",
     "output_type": "stream",
     "text": [
      "The URI has the following threat: threat {\n",
      "  threat_types: MALWARE\n",
      "  expire_time {\n",
      "    seconds: 1704744563\n",
      "    nanos: 188586121\n",
      "  }\n",
      "}\n",
      "\n"
     ]
    }
   ],
   "source": [
    "# [START webrisk_search_uri]\n",
    "from google.cloud import webrisk_v1\n",
    "from google.cloud.webrisk_v1 import SearchUrisResponse\n",
    "\n",
    "\n",
    "def search_uri(\n",
    "    uri: str, threat_type: webrisk_v1.ThreatType.MALWARE\n",
    ") -> SearchUrisResponse:\n",
    "    \"\"\"Checks whether a URI is on a given threatList.\n",
    "\n",
    "    Multiple threatLists may be searched in a single query. The response will list all\n",
    "    requested threatLists the URI was found to match. If the URI is not\n",
    "    found on any of the requested ThreatList an empty response will be returned.\n",
    "\n",
    "    Args:\n",
    "        uri: The URI to be checked for matches\n",
    "            Example: \"http://testsafebrowsing.appspot.com/s/malware.html\"\n",
    "        threat_type: The ThreatLists to search in. Multiple ThreatLists may be specified.\n",
    "            Example: threat_type = webrisk_v1.ThreatType.MALWARE\n",
    "\n",
    "    Returns:\n",
    "        SearchUrisResponse that contains a threat_type if the URI is present in the threatList.\n",
    "    \"\"\"\n",
    "    webrisk_client = webrisk_v1.WebRiskServiceClient()\n",
    "\n",
    "    request = webrisk_v1.SearchUrisRequest()\n",
    "    request.threat_types = [threat_type]\n",
    "    request.uri = uri\n",
    "\n",
    "    response = webrisk_client.search_uris(request)\n",
    "    if response.threat.threat_types:\n",
    "        print(f\"The URI has the following threat: {response}\")\n",
    "    else:\n",
    "        print(\"The URL is safe!\")\n",
    "    return response\n",
    "\n",
    "uri=\"http://testsafebrowsing.appspot.com/s/malware.html\"\n",
    "\n",
    "response = search_uri(\n",
    "            uri,\n",
    "            webrisk_v1.ThreatType.MALWARE,\n",
    "    )\n"
   ]
  },
  {
   "cell_type": "code",
   "execution_count": 2,
   "id": "62cf3ef1-15a1-4965-b662-543d9701a18b",
   "metadata": {},
   "outputs": [],
   "source": [
    "from google.cloud import webrisk_v1\n",
    "from google.cloud.webrisk_v1 import Submission\n",
    "\n",
    "\n",
    "def submit_uri(project_id: str, uri: str) -> Submission:\n",
    "    \"\"\"Submits a URI suspected of containing malicious content to be reviewed.\n",
    "\n",
    "    Returns a google.longrunning.Operation which, once the review is complete, is updated with its result.\n",
    "    You can use the [Pub/Sub API] (https://cloud.google.com/pubsub) to receive notifications for the\n",
    "    returned Operation.\n",
    "    If the result verifies the existence of malicious content, the site will be added to the\n",
    "    Google's Social Engineering lists in order to protect users that could get exposed to this\n",
    "    threat in the future. Only allow-listed projects can use this method during Early Access.\n",
    "\n",
    "     Args:\n",
    "         project_id: The name of the project that is making the submission.\n",
    "         uri: The URI that is being reported for malicious content to be analyzed.\n",
    "             uri = \"http://testsafebrowsing.appspot.com/s/malware.html\"\n",
    "\n",
    "    Returns:\n",
    "        Submission response that contains the URI submitted.\n",
    "    \"\"\"\n",
    "    webrisk_client = webrisk_v1.WebRiskServiceClient()\n",
    "\n",
    "    # Set the URI to be submitted.\n",
    "    submission = webrisk_v1.Submission()\n",
    "    submission.uri = uri\n",
    "\n",
    "    # Confidence that a URI is unsafe.\n",
    "    threat_confidence = webrisk_v1.ThreatInfo.Confidence(\n",
    "        level=webrisk_v1.ThreatInfo.Confidence.ConfidenceLevel.MEDIUM\n",
    "    )\n",
    "\n",
    "    # Context about why the URI is unsafe.\n",
    "    threat_justification = webrisk_v1.ThreatInfo.ThreatJustification(\n",
    "        # Labels that explain how the URI was classified.\n",
    "        labels=[\n",
    "            webrisk_v1.ThreatInfo.ThreatJustification.JustificationLabel.AUTOMATED_REPORT\n",
    "        ],\n",
    "        # Free-form context on why this URI is unsafe.\n",
    "        comments=[\"Testing submission\"],\n",
    "    )\n",
    "\n",
    "    # Set the context about the submission including the type of abuse found on the URI and\n",
    "    # supporting details.\n",
    "    threat_info = webrisk_v1.ThreatInfo(\n",
    "        # The abuse type found on the URI.\n",
    "        abuse_type=webrisk_v1.types.ThreatType.SOCIAL_ENGINEERING,\n",
    "        threat_confidence=threat_confidence,\n",
    "        threat_justification=threat_justification,\n",
    "    )\n",
    "\n",
    "    # Set the details about how the threat was discovered.\n",
    "    threat_discovery = webrisk_v1.ThreatDiscovery(\n",
    "        # Platform on which the threat was discovered.\n",
    "        platform=webrisk_v1.ThreatDiscovery.Platform.MACOS,\n",
    "        # CLDR region code of the countries/regions the URI poses a threat ordered\n",
    "        # from most impact to least impact. Example: \"US\" for United States.\n",
    "        region_codes=[\"US\"],\n",
    "    )\n",
    "\n",
    "    request = webrisk_v1.SubmitUriRequest(\n",
    "        parent=f\"projects/{project_id}\",\n",
    "        submission=submission,\n",
    "        threat_info=threat_info,\n",
    "        threat_discovery=threat_discovery,\n",
    "    )\n",
    "\n",
    "    response = webrisk_client.submit_uri(request).result(timeout=30)\n",
    "    return response\n"
   ]
  },
  {
   "cell_type": "code",
   "execution_count": 3,
   "id": "e08b5b07-7c37-4735-8e8d-08bb6decb18a",
   "metadata": {},
   "outputs": [
    {
     "ename": "MethodNotImplemented",
     "evalue": "501 Method not found.",
     "output_type": "error",
     "traceback": [
      "\u001b[0;31m---------------------------------------------------------------------------\u001b[0m",
      "\u001b[0;31m_InactiveRpcError\u001b[0m                         Traceback (most recent call last)",
      "File \u001b[0;32m/opt/conda/lib/python3.10/site-packages/google/api_core/grpc_helpers.py:75\u001b[0m, in \u001b[0;36m_wrap_unary_errors.<locals>.error_remapped_callable\u001b[0;34m(*args, **kwargs)\u001b[0m\n\u001b[1;32m     74\u001b[0m \u001b[38;5;28;01mtry\u001b[39;00m:\n\u001b[0;32m---> 75\u001b[0m     \u001b[38;5;28;01mreturn\u001b[39;00m \u001b[43mcallable_\u001b[49m\u001b[43m(\u001b[49m\u001b[38;5;241;43m*\u001b[39;49m\u001b[43margs\u001b[49m\u001b[43m,\u001b[49m\u001b[43m \u001b[49m\u001b[38;5;241;43m*\u001b[39;49m\u001b[38;5;241;43m*\u001b[39;49m\u001b[43mkwargs\u001b[49m\u001b[43m)\u001b[49m\n\u001b[1;32m     76\u001b[0m \u001b[38;5;28;01mexcept\u001b[39;00m grpc\u001b[38;5;241m.\u001b[39mRpcError \u001b[38;5;28;01mas\u001b[39;00m exc:\n",
      "File \u001b[0;32m/opt/conda/lib/python3.10/site-packages/grpc/_channel.py:1030\u001b[0m, in \u001b[0;36m_UnaryUnaryMultiCallable.__call__\u001b[0;34m(self, request, timeout, metadata, credentials, wait_for_ready, compression)\u001b[0m\n\u001b[1;32m   1028\u001b[0m state, call, \u001b[38;5;241m=\u001b[39m \u001b[38;5;28mself\u001b[39m\u001b[38;5;241m.\u001b[39m_blocking(request, timeout, metadata, credentials,\n\u001b[1;32m   1029\u001b[0m                               wait_for_ready, compression)\n\u001b[0;32m-> 1030\u001b[0m \u001b[38;5;28;01mreturn\u001b[39;00m \u001b[43m_end_unary_response_blocking\u001b[49m\u001b[43m(\u001b[49m\u001b[43mstate\u001b[49m\u001b[43m,\u001b[49m\u001b[43m \u001b[49m\u001b[43mcall\u001b[49m\u001b[43m,\u001b[49m\u001b[43m \u001b[49m\u001b[38;5;28;43;01mFalse\u001b[39;49;00m\u001b[43m,\u001b[49m\u001b[43m \u001b[49m\u001b[38;5;28;43;01mNone\u001b[39;49;00m\u001b[43m)\u001b[49m\n",
      "File \u001b[0;32m/opt/conda/lib/python3.10/site-packages/grpc/_channel.py:910\u001b[0m, in \u001b[0;36m_end_unary_response_blocking\u001b[0;34m(state, call, with_call, deadline)\u001b[0m\n\u001b[1;32m    909\u001b[0m \u001b[38;5;28;01melse\u001b[39;00m:\n\u001b[0;32m--> 910\u001b[0m     \u001b[38;5;28;01mraise\u001b[39;00m _InactiveRpcError(state)\n",
      "\u001b[0;31m_InactiveRpcError\u001b[0m: <_InactiveRpcError of RPC that terminated with:\n\tstatus = StatusCode.UNIMPLEMENTED\n\tdetails = \"Method not found.\"\n\tdebug_error_string = \"UNKNOWN:Error received from peer ipv4:142.250.31.95:443 {created_time:\"2023-11-15T22:42:33.360444044+00:00\", grpc_status:12, grpc_message:\"Method not found.\"}\"\n>",
      "\nThe above exception was the direct cause of the following exception:\n",
      "\u001b[0;31mMethodNotImplemented\u001b[0m                      Traceback (most recent call last)",
      "Cell \u001b[0;32mIn[3], line 2\u001b[0m\n\u001b[1;32m      1\u001b[0m uri\u001b[38;5;241m=\u001b[39m\u001b[38;5;124m\"\u001b[39m\u001b[38;5;124mhttp://testsafebrowsing.appspot.com/s/malware.html\u001b[39m\u001b[38;5;124m\"\u001b[39m\n\u001b[0;32m----> 2\u001b[0m \u001b[43msubmit_uri\u001b[49m\u001b[43m(\u001b[49m\u001b[38;5;124;43m'\u001b[39;49m\u001b[38;5;124;43mgenai-embeddings\u001b[39;49m\u001b[38;5;124;43m'\u001b[39;49m\u001b[43m,\u001b[49m\u001b[43muri\u001b[49m\u001b[43m)\u001b[49m\n",
      "Cell \u001b[0;32mIn[2], line 69\u001b[0m, in \u001b[0;36msubmit_uri\u001b[0;34m(project_id, uri)\u001b[0m\n\u001b[1;32m     54\u001b[0m threat_discovery \u001b[38;5;241m=\u001b[39m webrisk_v1\u001b[38;5;241m.\u001b[39mThreatDiscovery(\n\u001b[1;32m     55\u001b[0m     \u001b[38;5;66;03m# Platform on which the threat was discovered.\u001b[39;00m\n\u001b[1;32m     56\u001b[0m     platform\u001b[38;5;241m=\u001b[39mwebrisk_v1\u001b[38;5;241m.\u001b[39mThreatDiscovery\u001b[38;5;241m.\u001b[39mPlatform\u001b[38;5;241m.\u001b[39mMACOS,\n\u001b[0;32m   (...)\u001b[0m\n\u001b[1;32m     59\u001b[0m     region_codes\u001b[38;5;241m=\u001b[39m[\u001b[38;5;124m\"\u001b[39m\u001b[38;5;124mUS\u001b[39m\u001b[38;5;124m\"\u001b[39m],\n\u001b[1;32m     60\u001b[0m )\n\u001b[1;32m     62\u001b[0m request \u001b[38;5;241m=\u001b[39m webrisk_v1\u001b[38;5;241m.\u001b[39mSubmitUriRequest(\n\u001b[1;32m     63\u001b[0m     parent\u001b[38;5;241m=\u001b[39m\u001b[38;5;124mf\u001b[39m\u001b[38;5;124m\"\u001b[39m\u001b[38;5;124mprojects/\u001b[39m\u001b[38;5;132;01m{\u001b[39;00mproject_id\u001b[38;5;132;01m}\u001b[39;00m\u001b[38;5;124m\"\u001b[39m,\n\u001b[1;32m     64\u001b[0m     submission\u001b[38;5;241m=\u001b[39msubmission,\n\u001b[1;32m     65\u001b[0m     threat_info\u001b[38;5;241m=\u001b[39mthreat_info,\n\u001b[1;32m     66\u001b[0m     threat_discovery\u001b[38;5;241m=\u001b[39mthreat_discovery,\n\u001b[1;32m     67\u001b[0m )\n\u001b[0;32m---> 69\u001b[0m response \u001b[38;5;241m=\u001b[39m \u001b[43mwebrisk_client\u001b[49m\u001b[38;5;241;43m.\u001b[39;49m\u001b[43msubmit_uri\u001b[49m\u001b[43m(\u001b[49m\u001b[43mrequest\u001b[49m\u001b[43m)\u001b[49m\u001b[38;5;241m.\u001b[39mresult(timeout\u001b[38;5;241m=\u001b[39m\u001b[38;5;241m30\u001b[39m)\n\u001b[1;32m     70\u001b[0m \u001b[38;5;28;01mreturn\u001b[39;00m response\n",
      "File \u001b[0;32m/opt/conda/lib/python3.10/site-packages/google/cloud/webrisk_v1/services/web_risk_service/client.py:1005\u001b[0m, in \u001b[0;36mWebRiskServiceClient.submit_uri\u001b[0;34m(self, request, retry, timeout, metadata)\u001b[0m\n\u001b[1;32m   1000\u001b[0m metadata \u001b[38;5;241m=\u001b[39m \u001b[38;5;28mtuple\u001b[39m(metadata) \u001b[38;5;241m+\u001b[39m (\n\u001b[1;32m   1001\u001b[0m     gapic_v1\u001b[38;5;241m.\u001b[39mrouting_header\u001b[38;5;241m.\u001b[39mto_grpc_metadata(((\u001b[38;5;124m\"\u001b[39m\u001b[38;5;124mparent\u001b[39m\u001b[38;5;124m\"\u001b[39m, request\u001b[38;5;241m.\u001b[39mparent),)),\n\u001b[1;32m   1002\u001b[0m )\n\u001b[1;32m   1004\u001b[0m \u001b[38;5;66;03m# Send the request.\u001b[39;00m\n\u001b[0;32m-> 1005\u001b[0m response \u001b[38;5;241m=\u001b[39m \u001b[43mrpc\u001b[49m\u001b[43m(\u001b[49m\n\u001b[1;32m   1006\u001b[0m \u001b[43m    \u001b[49m\u001b[43mrequest\u001b[49m\u001b[43m,\u001b[49m\n\u001b[1;32m   1007\u001b[0m \u001b[43m    \u001b[49m\u001b[43mretry\u001b[49m\u001b[38;5;241;43m=\u001b[39;49m\u001b[43mretry\u001b[49m\u001b[43m,\u001b[49m\n\u001b[1;32m   1008\u001b[0m \u001b[43m    \u001b[49m\u001b[43mtimeout\u001b[49m\u001b[38;5;241;43m=\u001b[39;49m\u001b[43mtimeout\u001b[49m\u001b[43m,\u001b[49m\n\u001b[1;32m   1009\u001b[0m \u001b[43m    \u001b[49m\u001b[43mmetadata\u001b[49m\u001b[38;5;241;43m=\u001b[39;49m\u001b[43mmetadata\u001b[49m\u001b[43m,\u001b[49m\n\u001b[1;32m   1010\u001b[0m \u001b[43m\u001b[49m\u001b[43m)\u001b[49m\n\u001b[1;32m   1012\u001b[0m \u001b[38;5;66;03m# Wrap the response in an operation future.\u001b[39;00m\n\u001b[1;32m   1013\u001b[0m response \u001b[38;5;241m=\u001b[39m operation\u001b[38;5;241m.\u001b[39mfrom_gapic(\n\u001b[1;32m   1014\u001b[0m     response,\n\u001b[1;32m   1015\u001b[0m     \u001b[38;5;28mself\u001b[39m\u001b[38;5;241m.\u001b[39m_transport\u001b[38;5;241m.\u001b[39moperations_client,\n\u001b[1;32m   1016\u001b[0m     webrisk\u001b[38;5;241m.\u001b[39mSubmission,\n\u001b[1;32m   1017\u001b[0m     metadata_type\u001b[38;5;241m=\u001b[39mwebrisk\u001b[38;5;241m.\u001b[39mSubmitUriMetadata,\n\u001b[1;32m   1018\u001b[0m )\n",
      "File \u001b[0;32m/opt/conda/lib/python3.10/site-packages/google/api_core/gapic_v1/method.py:131\u001b[0m, in \u001b[0;36m_GapicCallable.__call__\u001b[0;34m(self, timeout, retry, compression, *args, **kwargs)\u001b[0m\n\u001b[1;32m    128\u001b[0m \u001b[38;5;28;01mif\u001b[39;00m \u001b[38;5;28mself\u001b[39m\u001b[38;5;241m.\u001b[39m_compression \u001b[38;5;129;01mis\u001b[39;00m \u001b[38;5;129;01mnot\u001b[39;00m \u001b[38;5;28;01mNone\u001b[39;00m:\n\u001b[1;32m    129\u001b[0m     kwargs[\u001b[38;5;124m\"\u001b[39m\u001b[38;5;124mcompression\u001b[39m\u001b[38;5;124m\"\u001b[39m] \u001b[38;5;241m=\u001b[39m compression\n\u001b[0;32m--> 131\u001b[0m \u001b[38;5;28;01mreturn\u001b[39;00m \u001b[43mwrapped_func\u001b[49m\u001b[43m(\u001b[49m\u001b[38;5;241;43m*\u001b[39;49m\u001b[43margs\u001b[49m\u001b[43m,\u001b[49m\u001b[43m \u001b[49m\u001b[38;5;241;43m*\u001b[39;49m\u001b[38;5;241;43m*\u001b[39;49m\u001b[43mkwargs\u001b[49m\u001b[43m)\u001b[49m\n",
      "File \u001b[0;32m/opt/conda/lib/python3.10/site-packages/google/api_core/grpc_helpers.py:77\u001b[0m, in \u001b[0;36m_wrap_unary_errors.<locals>.error_remapped_callable\u001b[0;34m(*args, **kwargs)\u001b[0m\n\u001b[1;32m     75\u001b[0m     \u001b[38;5;28;01mreturn\u001b[39;00m callable_(\u001b[38;5;241m*\u001b[39margs, \u001b[38;5;241m*\u001b[39m\u001b[38;5;241m*\u001b[39mkwargs)\n\u001b[1;32m     76\u001b[0m \u001b[38;5;28;01mexcept\u001b[39;00m grpc\u001b[38;5;241m.\u001b[39mRpcError \u001b[38;5;28;01mas\u001b[39;00m exc:\n\u001b[0;32m---> 77\u001b[0m     \u001b[38;5;28;01mraise\u001b[39;00m exceptions\u001b[38;5;241m.\u001b[39mfrom_grpc_error(exc) \u001b[38;5;28;01mfrom\u001b[39;00m \u001b[38;5;21;01mexc\u001b[39;00m\n",
      "\u001b[0;31mMethodNotImplemented\u001b[0m: 501 Method not found."
     ]
    }
   ],
   "source": [
    "uri=\"http://testsafebrowsing.appspot.com/s/malware.html\"\n",
    "submit_uri('genai-embeddings',uri)"
   ]
  },
  {
   "cell_type": "code",
   "execution_count": null,
   "id": "28cd9feb-f0c4-4e34-bfc7-d24d2ac3210c",
   "metadata": {},
   "outputs": [],
   "source": []
  }
 ],
 "metadata": {
  "environment": {
   "kernel": "python3",
   "name": "tf2-gpu.2-11.m110",
   "type": "gcloud",
   "uri": "gcr.io/deeplearning-platform-release/tf2-gpu.2-11:m110"
  },
  "kernelspec": {
   "display_name": "Python 3",
   "language": "python",
   "name": "python3"
  },
  "language_info": {
   "codemirror_mode": {
    "name": "ipython",
    "version": 3
   },
   "file_extension": ".py",
   "mimetype": "text/x-python",
   "name": "python",
   "nbconvert_exporter": "python",
   "pygments_lexer": "ipython3",
   "version": "3.10.12"
  }
 },
 "nbformat": 4,
 "nbformat_minor": 5
}
