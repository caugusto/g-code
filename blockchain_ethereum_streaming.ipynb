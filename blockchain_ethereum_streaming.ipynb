{
 "cells": [
  {
   "cell_type": "markdown",
   "id": "50e17ad0-5666-4d3d-aff8-411b41d3b5cf",
   "metadata": {},
   "source": [
    "## Exercising Ethereum traces streaming directly into BigQuery\n",
    "\n",
    "Based on:\n",
    "- https://github.com/blockchain-etl/blockchain-etl-streaming/tree/master\n",
    "- https://medium.com/google-cloud/live-ethereum-and-bitcoin-data-in-google-bigquery-and-pub-sub-765b71cd57b5\n",
    "- https://medium.com/google-cloud/real-time-ethereum-notifications-for-everyone-for-free-a76e72e45026"
   ]
  },
  {
   "cell_type": "markdown",
   "id": "c339e164-0232-48f8-8b90-2088b62fa15e",
   "metadata": {},
   "source": [
    "### Create a table to host Pub/Sub events ... Change dataset name"
   ]
  },
  {
   "cell_type": "code",
   "execution_count": 2,
   "id": "8f8c740e-39fb-4b6a-9070-7f6170b83849",
   "metadata": {},
   "outputs": [
    {
     "data": {
      "application/vnd.jupyter.widget-view+json": {
       "model_id": "b173378d7dd441bc90088602948fde87",
       "version_major": 2,
       "version_minor": 0
      },
      "text/plain": [
       "Query is running:   0%|          |"
      ]
     },
     "metadata": {},
     "output_type": "display_data"
    },
    {
     "data": {
      "text/html": [
       "<div>\n",
       "<style scoped>\n",
       "    .dataframe tbody tr th:only-of-type {\n",
       "        vertical-align: middle;\n",
       "    }\n",
       "\n",
       "    .dataframe tbody tr th {\n",
       "        vertical-align: top;\n",
       "    }\n",
       "\n",
       "    .dataframe thead th {\n",
       "        text-align: right;\n",
       "    }\n",
       "</style>\n",
       "<table border=\"1\" class=\"dataframe\">\n",
       "  <thead>\n",
       "    <tr style=\"text-align: right;\">\n",
       "      <th></th>\n",
       "    </tr>\n",
       "  </thead>\n",
       "  <tbody>\n",
       "  </tbody>\n",
       "</table>\n",
       "</div>"
      ],
      "text/plain": [
       "Empty DataFrame\n",
       "Columns: []\n",
       "Index: []"
      ]
     },
     "execution_count": 2,
     "metadata": {},
     "output_type": "execute_result"
    }
   ],
   "source": [
    "%%bigquery\n",
    "\n",
    "create or replace table `genai-embeddings.yugalabs_bqmlga4.etherium_traces`\n",
    "(\n",
    "data JSON\n",
    ");"
   ]
  },
  {
   "cell_type": "markdown",
   "id": "e7b05f79-58c5-4226-97ef-e37e2b6df2dd",
   "metadata": {},
   "source": [
    "### Create a view to unnest the JSON data ... Change dataset name"
   ]
  },
  {
   "cell_type": "code",
   "execution_count": 3,
   "id": "c5a99ff5-4eb3-4fcc-8d8f-58f13102f82a",
   "metadata": {},
   "outputs": [
    {
     "data": {
      "application/vnd.jupyter.widget-view+json": {
       "model_id": "510dc580c6324dad93cfe38d682e23d4",
       "version_major": 2,
       "version_minor": 0
      },
      "text/plain": [
       "Query is running:   0%|          |"
      ]
     },
     "metadata": {},
     "output_type": "display_data"
    },
    {
     "data": {
      "text/html": [
       "<div>\n",
       "<style scoped>\n",
       "    .dataframe tbody tr th:only-of-type {\n",
       "        vertical-align: middle;\n",
       "    }\n",
       "\n",
       "    .dataframe tbody tr th {\n",
       "        vertical-align: top;\n",
       "    }\n",
       "\n",
       "    .dataframe thead th {\n",
       "        text-align: right;\n",
       "    }\n",
       "</style>\n",
       "<table border=\"1\" class=\"dataframe\">\n",
       "  <thead>\n",
       "    <tr style=\"text-align: right;\">\n",
       "      <th></th>\n",
       "    </tr>\n",
       "  </thead>\n",
       "  <tbody>\n",
       "  </tbody>\n",
       "</table>\n",
       "</div>"
      ],
      "text/plain": [
       "Empty DataFrame\n",
       "Columns: []\n",
       "Index: []"
      ]
     },
     "execution_count": 3,
     "metadata": {},
     "output_type": "execute_result"
    }
   ],
   "source": [
    "%%bigquery\n",
    "\n",
    "create or replace view `genai-embeddings.yugalabs_bqmlga4.vw_etherium_traces` as\n",
    "select\n",
    "JSON_VALUE(data.block_hash) as block_hash,\n",
    "CAST(JSON_VALUE(data.block_number) as INTEGER) as block_number,\n",
    "CAST(JSON_VALUE(data.block_timestamp) as INTEGER) as block_timestamp,\n",
    "JSON_VALUE(data.call_type) as call_type,\n",
    "JSON_VALUE(data.error) as error,\n",
    "JSON_VALUE( data.from_address) as from_address,\n",
    "CAST(JSON_VALUE(data.gas) as INTEGER) as gas,\n",
    "CAST(JSON_VALUE(data.gas_used) as INTEGER) as gas_used,\n",
    "JSON_VALUE(data.input) as input,\n",
    "JSON_VALUE(data.item_id) as item_id,\n",
    "JSON_VALUE(data.item_timestamp) as item_timestamp,\n",
    "JSON_VALUE(data.output) as output,\n",
    "JSON_VALUE(data.reward_type) as reward_type,\n",
    "CAST(JSON_VALUE(data.status) as INTEGER) as status,\n",
    "CAST(JSON_VALUE(data.subtraces) as INTEGER) as subtraces,\n",
    "JSON_VALUE(data.to_address) as to_address,\n",
    "JSON_VALUE(data.trace_address) as trace_address,\n",
    "JSON_VALUE(data.trace_id) as trace_id,\n",
    "CAST(JSON_VALUE(data.trace_index) as INTEGER) as trace_index,\n",
    "JSON_VALUE(data.trace_type) as trace_type,\n",
    "JSON_VALUE(data.transaction_hash) as transaction_hash,\n",
    "CAST(JSON_VALUE(data.transaction_index) as INTEGER) as transaction_index,\n",
    "JSON_VALUE(data.type) as type,\n",
    "CAST(JSON_VALUE(data.value) as INTEGER) as value\n",
    "from `genai-embeddings.yugalabs_bqmlga4.etherium_traces`\n"
   ]
  },
  {
   "cell_type": "markdown",
   "id": "8e08a852-197e-4d6f-9f36-cb3e7e367cc9",
   "metadata": {},
   "source": [
    "### Create a Pub/Sub Subscription to the Public Topic named crypto_ethereum.traces under project crypto-public-data"
   ]
  },
  {
   "cell_type": "code",
   "execution_count": 4,
   "id": "d9b077e0-a929-4ff7-8d92-7beff56449a7",
   "metadata": {},
   "outputs": [
    {
     "name": "stdout",
     "output_type": "stream",
     "text": [
      "Created subscription [projects/genai-embeddings/subscriptions/crypto_ethereum.traces].\n",
      "\n",
      "\n",
      "To take a quick anonymous survey, run:\n",
      "  $ gcloud survey\n",
      "\n"
     ]
    }
   ],
   "source": [
    "! gcloud pubsub subscriptions create crypto_ethereum.traces --topic=crypto_ethereum.traces --topic-project=crypto-public-data"
   ]
  },
  {
   "cell_type": "markdown",
   "id": "824415ce-5bdf-4f32-8587-5984ecad049c",
   "metadata": {},
   "source": [
    "### Read a single message to test if it works"
   ]
  },
  {
   "cell_type": "code",
   "execution_count": 5,
   "id": "afd66930-5d7e-429e-b279-1498c433fff4",
   "metadata": {},
   "outputs": [
    {
     "name": "stdout",
     "output_type": "stream",
     "text": [
      "┌───────────────────────────────────────────────────────────────────────────────────────────────────────────────────────────────────────────────────────────────────────────────────────────────────────────────────────────────────────────────────────────────────────────────────────────────────────────────────────────────────────────────────────────────────────────────────────────────────────────────────────────────────────────────────────────────────────────────────────────────────────────────────────────────────────────────────────────────────────────────────────────────────────────────────────────────────────────────────────────────────────────────────────────────────────────────────────────────────────────────────────────────────────────────────────────────────────────────────────────────────────────────────────────────────────────────────────────────────────────────────────────────────────────────────────────────────────────────────────────────────────────────────────────────────────────────────────────────────────────────────────────────────────────────────────────────────────────────────────┬──────────────────┬──────────────┬────────────────────────────────────────────────────────────────────────────────────────┬──────────────────┬──────────────────────────────────────────────────────────────────────────────────────────────────────────────────────────────────────────────────────────────────────────────────────────────────────────────┐\n",
      "│                                                                                                                                                                                                                                                                                                                                                                                                                                                                                                                                                                          DATA                                                                                                                                                                                                                                                                                                                                                                                                                                                                                                                                                                         │    MESSAGE_ID    │ ORDERING_KEY │                                       ATTRIBUTES                                       │ DELIVERY_ATTEMPT │                                                                                                    ACK_ID                                                                                                    │\n",
      "├───────────────────────────────────────────────────────────────────────────────────────────────────────────────────────────────────────────────────────────────────────────────────────────────────────────────────────────────────────────────────────────────────────────────────────────────────────────────────────────────────────────────────────────────────────────────────────────────────────────────────────────────────────────────────────────────────────────────────────────────────────────────────────────────────────────────────────────────────────────────────────────────────────────────────────────────────────────────────────────────────────────────────────────────────────────────────────────────────────────────────────────────────────────────────────────────────────────────────────────────────────────────────────────────────────────────────────────────────────────────────────────────────────────────────────────────────────────────────────────────────────────────────────────────────────────────────────────────────────────────────────────────────────────────────────────────────────────────────────┼──────────────────┼──────────────┼────────────────────────────────────────────────────────────────────────────────────────┼──────────────────┼──────────────────────────────────────────────────────────────────────────────────────────────────────────────────────────────────────────────────────────────────────────────────────────────────────────────┤\n",
      "│ {\"type\": \"trace\", \"transaction_index\": 44, \"from_address\": \"0x5dd596c901987a2b28c38a9c1dfbf86fffc15d77\", \"to_address\": \"0x83f20f44975d03b1b09e64809b757c47f942beea\", \"value\": 0, \"input\": \"0xba08765200000000000000000000000000000000000000000000cc58c13c0ae0312000000000000000000000000000005dd596c901987a2b28c38a9c1dfbf86fffc15d770000000000000000000000005dd596c901987a2b28c38a9c1dfbf86fffc15d77\", \"output\": \"0x00000000000000000000000000000000000000000000d3b03904effac576c8ea\", \"trace_type\": \"call\", \"call_type\": \"call\", \"reward_type\": null, \"gas\": 255740, \"gas_used\": 163267, \"subtraces\": 4, \"trace_address\": [], \"error\": null, \"status\": 1, \"transaction_hash\": \"0x0dea199c9850db3afc73ce903d822b2eb3b8ce39aa99e340087ea3ccabb94a3c\", \"block_number\": 18214926, \"trace_id\": \"call_0x0dea199c9850db3afc73ce903d822b2eb3b8ce39aa99e340087ea3ccabb94a3c_\", \"trace_index\": 999, \"block_timestamp\": 1695670595, \"block_hash\": \"0x4152bfbd77bcbaa5783c90d058607e9cc0efe70d5d0f45beadfe8ca87cd81d81\", \"item_id\": \"trace_call_0x0dea199c9850db3afc73ce903d822b2eb3b8ce39aa99e340087ea3ccabb94a3c_\", \"item_timestamp\": \"2023-09-25T19:36:35Z\"} │ 9254065896349422 │              │ item_id=trace_call_0x0dea199c9850db3afc73ce903d822b2eb3b8ce39aa99e340087ea3ccabb94a3c_ │                  │ UTcZCGhRDk9eIz81IChFEgYATwIoXXkJVDpBX3QFPg0Zcn1hdGILQVBUEAUrWggRDG5UVXMEVAsTcm9QdXKf5_aac3FeVlkeCWhaWX0OVw4de3ljd0Lf6t2MocqYYEEnNa2oq-0xce-JjN9TZis9XhJLLD5-IzdFQV5AEkwoAkRJUytDCypYEU4EISE-MD5FU0RQBhYsXUZI │\n",
      "│                                                                                                                                                                                                                                                                                                                                                                                                                                                                                                                                                                                                                                                                                                                                                                                                                                                                                                                                                                                                                                                                                                                                                       │                  │              │ item_timestamp=2023-09-25T19:36:35Z                                                    │                  │                                                                                                                                                                                                              │\n",
      "└───────────────────────────────────────────────────────────────────────────────────────────────────────────────────────────────────────────────────────────────────────────────────────────────────────────────────────────────────────────────────────────────────────────────────────────────────────────────────────────────────────────────────────────────────────────────────────────────────────────────────────────────────────────────────────────────────────────────────────────────────────────────────────────────────────────────────────────────────────────────────────────────────────────────────────────────────────────────────────────────────────────────────────────────────────────────────────────────────────────────────────────────────────────────────────────────────────────────────────────────────────────────────────────────────────────────────────────────────────────────────────────────────────────────────────────────────────────────────────────────────────────────────────────────────────────────────────────────────────────────────────────────────────────────────────────────────────────────────────┴──────────────────┴──────────────┴────────────────────────────────────────────────────────────────────────────────────────┴──────────────────┴──────────────────────────────────────────────────────────────────────────────────────────────────────────────────────────────────────────────────────────────────────────────────────────────────────────────┘\n"
     ]
    }
   ],
   "source": [
    "! gcloud pubsub subscriptions pull crypto_ethereum.traces"
   ]
  },
  {
   "cell_type": "markdown",
   "id": "36d9355c-f03b-4eda-ac1e-fc373f8c5e9d",
   "metadata": {},
   "source": [
    "### Delete Subscription as we will now recreate the subscription pointing directly to the BigQuery table created earlier"
   ]
  },
  {
   "cell_type": "code",
   "execution_count": 14,
   "id": "55d0839d-62df-4cab-91e2-ad1d2ae7ba46",
   "metadata": {},
   "outputs": [
    {
     "name": "stdout",
     "output_type": "stream",
     "text": [
      "Deleted subscription [projects/genai-embeddings/subscriptions/crypto_ethereum.traces].\n"
     ]
    }
   ],
   "source": [
    "! gcloud pubsub subscriptions delete crypto_ethereum.traces"
   ]
  },
  {
   "cell_type": "markdown",
   "id": "a5cea97d-afd0-4d83-9c80-7620554104ac",
   "metadata": {},
   "source": [
    "### Using the GCP Console, assign BigQuery role (BQ Data Editor) to the Pub/Sub service account\n",
    "- The Pub/Sub service account has this naming convention: service-\"your-project-number\"@gcp-sa-pubsub.iam.gserviceaccount.com"
   ]
  },
  {
   "cell_type": "markdown",
   "id": "16dd9239-7c56-419d-b6bb-2e55307c9471",
   "metadata": {},
   "source": [
    "### Create a Pub/Sub Subscription pointing it to the BigQuery table created earlier\n",
    "-- More info and options at https://cloud.google.com/pubsub/docs/create-bigquery-subscription#before_you_begin"
   ]
  },
  {
   "cell_type": "code",
   "execution_count": 10,
   "id": "3e91e656-e1a7-40ac-8660-4a141afb74c2",
   "metadata": {},
   "outputs": [
    {
     "name": "stdout",
     "output_type": "stream",
     "text": [
      "Created subscription [projects/genai-embeddings/subscriptions/crypto_ethereum.traces].\n"
     ]
    }
   ],
   "source": [
    "! gcloud pubsub subscriptions create crypto_ethereum.traces \\\n",
    "    --topic=crypto_ethereum.traces \\\n",
    "    --topic-project=crypto-public-data \\\n",
    "    --bigquery-table=genai-embeddings:yugalabs_bqmlga4.etherium_traces"
   ]
  },
  {
   "cell_type": "markdown",
   "id": "03192a84-b06a-4540-81b4-8389d96932eb",
   "metadata": {},
   "source": [
    "### Validate if data is being added to the table"
   ]
  },
  {
   "cell_type": "code",
   "execution_count": null,
   "id": "552b4075-2bb7-48de-ad9f-e07b82f82768",
   "metadata": {},
   "outputs": [
    {
     "data": {
      "application/vnd.jupyter.widget-view+json": {
       "model_id": "",
       "version_major": 2,
       "version_minor": 0
      },
      "text/plain": [
       "Query is running:   0%|          |"
      ]
     },
     "metadata": {},
     "output_type": "display_data"
    },
    {
     "data": {
      "application/vnd.jupyter.widget-view+json": {
       "model_id": "",
       "version_major": 2,
       "version_minor": 0
      },
      "text/plain": [
       "Downloading:   0%|          |"
      ]
     },
     "metadata": {},
     "output_type": "display_data"
    },
    {
     "data": {
      "text/html": [
       "<div>\n",
       "<style scoped>\n",
       "    .dataframe tbody tr th:only-of-type {\n",
       "        vertical-align: middle;\n",
       "    }\n",
       "\n",
       "    .dataframe tbody tr th {\n",
       "        vertical-align: top;\n",
       "    }\n",
       "\n",
       "    .dataframe thead th {\n",
       "        text-align: right;\n",
       "    }\n",
       "</style>\n",
       "<table border=\"1\" class=\"dataframe\">\n",
       "  <thead>\n",
       "    <tr style=\"text-align: right;\">\n",
       "      <th></th>\n",
       "      <th>data</th>\n",
       "    </tr>\n",
       "  </thead>\n",
       "  <tbody>\n",
       "    <tr>\n",
       "      <th>0</th>\n",
       "      <td>{\"block_hash\":\"0xa3585ea87a8659e187100c8ab1a34...</td>\n",
       "    </tr>\n",
       "    <tr>\n",
       "      <th>1</th>\n",
       "      <td>{\"block_hash\":\"0xa3585ea87a8659e187100c8ab1a34...</td>\n",
       "    </tr>\n",
       "    <tr>\n",
       "      <th>2</th>\n",
       "      <td>{\"block_hash\":\"0xa3585ea87a8659e187100c8ab1a34...</td>\n",
       "    </tr>\n",
       "    <tr>\n",
       "      <th>3</th>\n",
       "      <td>{\"block_hash\":\"0xa3585ea87a8659e187100c8ab1a34...</td>\n",
       "    </tr>\n",
       "    <tr>\n",
       "      <th>4</th>\n",
       "      <td>{\"block_hash\":\"0xa3585ea87a8659e187100c8ab1a34...</td>\n",
       "    </tr>\n",
       "    <tr>\n",
       "      <th>5</th>\n",
       "      <td>{\"block_hash\":\"0xa3585ea87a8659e187100c8ab1a34...</td>\n",
       "    </tr>\n",
       "    <tr>\n",
       "      <th>6</th>\n",
       "      <td>{\"block_hash\":\"0xa3585ea87a8659e187100c8ab1a34...</td>\n",
       "    </tr>\n",
       "    <tr>\n",
       "      <th>7</th>\n",
       "      <td>{\"block_hash\":\"0xa3585ea87a8659e187100c8ab1a34...</td>\n",
       "    </tr>\n",
       "    <tr>\n",
       "      <th>8</th>\n",
       "      <td>{\"block_hash\":\"0xa3585ea87a8659e187100c8ab1a34...</td>\n",
       "    </tr>\n",
       "    <tr>\n",
       "      <th>9</th>\n",
       "      <td>{\"block_hash\":\"0xa3585ea87a8659e187100c8ab1a34...</td>\n",
       "    </tr>\n",
       "  </tbody>\n",
       "</table>\n",
       "</div>"
      ],
      "text/plain": [
       "                                                data\n",
       "0  {\"block_hash\":\"0xa3585ea87a8659e187100c8ab1a34...\n",
       "1  {\"block_hash\":\"0xa3585ea87a8659e187100c8ab1a34...\n",
       "2  {\"block_hash\":\"0xa3585ea87a8659e187100c8ab1a34...\n",
       "3  {\"block_hash\":\"0xa3585ea87a8659e187100c8ab1a34...\n",
       "4  {\"block_hash\":\"0xa3585ea87a8659e187100c8ab1a34...\n",
       "5  {\"block_hash\":\"0xa3585ea87a8659e187100c8ab1a34...\n",
       "6  {\"block_hash\":\"0xa3585ea87a8659e187100c8ab1a34...\n",
       "7  {\"block_hash\":\"0xa3585ea87a8659e187100c8ab1a34...\n",
       "8  {\"block_hash\":\"0xa3585ea87a8659e187100c8ab1a34...\n",
       "9  {\"block_hash\":\"0xa3585ea87a8659e187100c8ab1a34..."
      ]
     },
     "execution_count": 12,
     "metadata": {},
     "output_type": "execute_result"
    }
   ],
   "source": [
    "%%bigquery\n",
    "select * from yugalabs_bqmlga4.etherium_traces LIMIT 10;"
   ]
  },
  {
   "cell_type": "markdown",
   "id": "2a1833c0-4659-44e3-86f2-2de29a7dfb7b",
   "metadata": {},
   "source": [
    "### Now check the view"
   ]
  },
  {
   "cell_type": "code",
   "execution_count": 16,
   "id": "20718a21-5213-4ada-adff-f8177a2529f2",
   "metadata": {},
   "outputs": [
    {
     "data": {
      "application/vnd.jupyter.widget-view+json": {
       "model_id": "20ce3d75560d429d8c110868e694887b",
       "version_major": 2,
       "version_minor": 0
      },
      "text/plain": [
       "Query is running:   0%|          |"
      ]
     },
     "metadata": {},
     "output_type": "display_data"
    },
    {
     "data": {
      "application/vnd.jupyter.widget-view+json": {
       "model_id": "140f81c10b1a44a0b69f9306d7323242",
       "version_major": 2,
       "version_minor": 0
      },
      "text/plain": [
       "Downloading:   0%|          |"
      ]
     },
     "metadata": {},
     "output_type": "display_data"
    },
    {
     "data": {
      "text/html": [
       "<div>\n",
       "<style scoped>\n",
       "    .dataframe tbody tr th:only-of-type {\n",
       "        vertical-align: middle;\n",
       "    }\n",
       "\n",
       "    .dataframe tbody tr th {\n",
       "        vertical-align: top;\n",
       "    }\n",
       "\n",
       "    .dataframe thead th {\n",
       "        text-align: right;\n",
       "    }\n",
       "</style>\n",
       "<table border=\"1\" class=\"dataframe\">\n",
       "  <thead>\n",
       "    <tr style=\"text-align: right;\">\n",
       "      <th></th>\n",
       "      <th>block_hash</th>\n",
       "      <th>block_number</th>\n",
       "      <th>block_timestamp</th>\n",
       "      <th>call_type</th>\n",
       "      <th>error</th>\n",
       "      <th>from_address</th>\n",
       "      <th>gas</th>\n",
       "      <th>gas_used</th>\n",
       "      <th>input</th>\n",
       "      <th>item_id</th>\n",
       "      <th>...</th>\n",
       "      <th>subtraces</th>\n",
       "      <th>to_address</th>\n",
       "      <th>trace_address</th>\n",
       "      <th>trace_id</th>\n",
       "      <th>trace_index</th>\n",
       "      <th>trace_type</th>\n",
       "      <th>transaction_hash</th>\n",
       "      <th>transaction_index</th>\n",
       "      <th>type</th>\n",
       "      <th>value</th>\n",
       "    </tr>\n",
       "  </thead>\n",
       "  <tbody>\n",
       "    <tr>\n",
       "      <th>0</th>\n",
       "      <td>0xa3585ea87a8659e187100c8ab1a34127971fe1026f41...</td>\n",
       "      <td>18214997</td>\n",
       "      <td>1695671447</td>\n",
       "      <td>call</td>\n",
       "      <td>None</td>\n",
       "      <td>0x3208684f96458c540eb08f6f01b9e9afb2b7d4f0</td>\n",
       "      <td>250371</td>\n",
       "      <td>197305</td>\n",
       "      <td>0xc9e75c48000000000000000031010000000000000000...</td>\n",
       "      <td>trace_call_0x613d806638785232065a36a0c48f043ec...</td>\n",
       "      <td>...</td>\n",
       "      <td>2</td>\n",
       "      <td>0x3208684f96458c540eb08f6f01b9e9afb2b7d4f0</td>\n",
       "      <td>None</td>\n",
       "      <td>call_0x613d806638785232065a36a0c48f043eca0bc33...</td>\n",
       "      <td>3</td>\n",
       "      <td>call</td>\n",
       "      <td>0x613d806638785232065a36a0c48f043eca0bc3395475...</td>\n",
       "      <td>0</td>\n",
       "      <td>trace</td>\n",
       "      <td>0</td>\n",
       "    </tr>\n",
       "    <tr>\n",
       "      <th>1</th>\n",
       "      <td>0xa3585ea87a8659e187100c8ab1a34127971fe1026f41...</td>\n",
       "      <td>18214997</td>\n",
       "      <td>1695671447</td>\n",
       "      <td>staticcall</td>\n",
       "      <td>None</td>\n",
       "      <td>0x3208684f96458c540eb08f6f01b9e9afb2b7d4f0</td>\n",
       "      <td>106209</td>\n",
       "      <td>2517</td>\n",
       "      <td>0x0902f1ac</td>\n",
       "      <td>trace_call_0x613d806638785232065a36a0c48f043ec...</td>\n",
       "      <td>...</td>\n",
       "      <td>0</td>\n",
       "      <td>0x6a091a3406e0073c3cd6340122143009adac0eda</td>\n",
       "      <td>None</td>\n",
       "      <td>call_0x613d806638785232065a36a0c48f043eca0bc33...</td>\n",
       "      <td>17</td>\n",
       "      <td>call</td>\n",
       "      <td>0x613d806638785232065a36a0c48f043eca0bc3395475...</td>\n",
       "      <td>0</td>\n",
       "      <td>trace</td>\n",
       "      <td>0</td>\n",
       "    </tr>\n",
       "    <tr>\n",
       "      <th>2</th>\n",
       "      <td>0xa3585ea87a8659e187100c8ab1a34127971fe1026f41...</td>\n",
       "      <td>18214997</td>\n",
       "      <td>1695671447</td>\n",
       "      <td>staticcall</td>\n",
       "      <td>None</td>\n",
       "      <td>0x3208684f96458c540eb08f6f01b9e9afb2b7d4f0</td>\n",
       "      <td>103512</td>\n",
       "      <td>646</td>\n",
       "      <td>0x70a082310000000000000000000000006a091a3406e0...</td>\n",
       "      <td>trace_call_0x613d806638785232065a36a0c48f043ec...</td>\n",
       "      <td>...</td>\n",
       "      <td>0</td>\n",
       "      <td>0x767fe9edc9e0df98e07454847909b5e959d7ca0e</td>\n",
       "      <td>None</td>\n",
       "      <td>call_0x613d806638785232065a36a0c48f043eca0bc33...</td>\n",
       "      <td>18</td>\n",
       "      <td>call</td>\n",
       "      <td>0x613d806638785232065a36a0c48f043eca0bc3395475...</td>\n",
       "      <td>0</td>\n",
       "      <td>trace</td>\n",
       "      <td>0</td>\n",
       "    </tr>\n",
       "    <tr>\n",
       "      <th>3</th>\n",
       "      <td>0xa3585ea87a8659e187100c8ab1a34127971fe1026f41...</td>\n",
       "      <td>18214997</td>\n",
       "      <td>1695671447</td>\n",
       "      <td>staticcall</td>\n",
       "      <td>None</td>\n",
       "      <td>0x6a091a3406e0073c3cd6340122143009adac0eda</td>\n",
       "      <td>238528</td>\n",
       "      <td>534</td>\n",
       "      <td>0x70a082310000000000000000000000006a091a3406e0...</td>\n",
       "      <td>trace_call_0x74e8aeaba0f705f72f8df1312d51ded3b...</td>\n",
       "      <td>...</td>\n",
       "      <td>0</td>\n",
       "      <td>0xc02aaa39b223fe8d0a0e5c4f27ead9083c756cc2</td>\n",
       "      <td>None</td>\n",
       "      <td>call_0x74e8aeaba0f705f72f8df1312d51ded3b715986...</td>\n",
       "      <td>35</td>\n",
       "      <td>call</td>\n",
       "      <td>0x74e8aeaba0f705f72f8df1312d51ded3b715986c9d6f...</td>\n",
       "      <td>1</td>\n",
       "      <td>trace</td>\n",
       "      <td>0</td>\n",
       "    </tr>\n",
       "    <tr>\n",
       "      <th>4</th>\n",
       "      <td>0xa3585ea87a8659e187100c8ab1a34127971fe1026f41...</td>\n",
       "      <td>18214997</td>\n",
       "      <td>1695671447</td>\n",
       "      <td>call</td>\n",
       "      <td>None</td>\n",
       "      <td>0x7b577a879665ef6ad344da61de7ec2371f6ff68f</td>\n",
       "      <td>2300</td>\n",
       "      <td>0</td>\n",
       "      <td>0x</td>\n",
       "      <td>trace_call_0x74e8aeaba0f705f72f8df1312d51ded3b...</td>\n",
       "      <td>...</td>\n",
       "      <td>0</td>\n",
       "      <td>0x1f9090aae28b8a3dceadf281b0f12828e676c326</td>\n",
       "      <td>None</td>\n",
       "      <td>call_0x74e8aeaba0f705f72f8df1312d51ded3b715986...</td>\n",
       "      <td>36</td>\n",
       "      <td>call</td>\n",
       "      <td>0x74e8aeaba0f705f72f8df1312d51ded3b715986c9d6f...</td>\n",
       "      <td>1</td>\n",
       "      <td>trace</td>\n",
       "      <td>256016394959325000</td>\n",
       "    </tr>\n",
       "    <tr>\n",
       "      <th>5</th>\n",
       "      <td>0xa3585ea87a8659e187100c8ab1a34127971fe1026f41...</td>\n",
       "      <td>18214997</td>\n",
       "      <td>1695671447</td>\n",
       "      <td>call</td>\n",
       "      <td>None</td>\n",
       "      <td>0x692452d0a61792e01e98b25aac0f49910b72bd92</td>\n",
       "      <td>245508</td>\n",
       "      <td>164209</td>\n",
       "      <td>0x791ac947000000000000000000000000000000000000...</td>\n",
       "      <td>trace_call_0xccdf5ce880c6688b1b876af9cdbba9302...</td>\n",
       "      <td>...</td>\n",
       "      <td>7</td>\n",
       "      <td>0x7a250d5630b4cf539739df2c5dacb4c659f2488d</td>\n",
       "      <td>None</td>\n",
       "      <td>call_0xccdf5ce880c6688b1b876af9cdbba930214985a...</td>\n",
       "      <td>37</td>\n",
       "      <td>call</td>\n",
       "      <td>0xccdf5ce880c6688b1b876af9cdbba930214985aa6062...</td>\n",
       "      <td>2</td>\n",
       "      <td>trace</td>\n",
       "      <td>0</td>\n",
       "    </tr>\n",
       "    <tr>\n",
       "      <th>6</th>\n",
       "      <td>0xa3585ea87a8659e187100c8ab1a34127971fe1026f41...</td>\n",
       "      <td>18214997</td>\n",
       "      <td>1695671447</td>\n",
       "      <td>call</td>\n",
       "      <td>None</td>\n",
       "      <td>0x7a250d5630b4cf539739df2c5dacb4c659f2488d</td>\n",
       "      <td>237075</td>\n",
       "      <td>67252</td>\n",
       "      <td>0x23b872dd000000000000000000000000692452d0a617...</td>\n",
       "      <td>trace_call_0xccdf5ce880c6688b1b876af9cdbba9302...</td>\n",
       "      <td>...</td>\n",
       "      <td>0</td>\n",
       "      <td>0x642ac912a58428767fa14a26a749f9a1b001ba92</td>\n",
       "      <td>None</td>\n",
       "      <td>call_0xccdf5ce880c6688b1b876af9cdbba930214985a...</td>\n",
       "      <td>38</td>\n",
       "      <td>call</td>\n",
       "      <td>0xccdf5ce880c6688b1b876af9cdbba930214985aa6062...</td>\n",
       "      <td>2</td>\n",
       "      <td>trace</td>\n",
       "      <td>0</td>\n",
       "    </tr>\n",
       "    <tr>\n",
       "      <th>7</th>\n",
       "      <td>0xa3585ea87a8659e187100c8ab1a34127971fe1026f41...</td>\n",
       "      <td>18214997</td>\n",
       "      <td>1695671447</td>\n",
       "      <td>call</td>\n",
       "      <td>None</td>\n",
       "      <td>0x00000047bb99ea4d791bb749d970de71ee0b1a34</td>\n",
       "      <td>142361</td>\n",
       "      <td>10524</td>\n",
       "      <td>0x2e1a7d4d000000000000000000000000000000000000...</td>\n",
       "      <td>trace_call_0x5db9008cd625c5c4d545a3c9273f90a83...</td>\n",
       "      <td>...</td>\n",
       "      <td>1</td>\n",
       "      <td>0xc02aaa39b223fe8d0a0e5c4f27ead9083c756cc2</td>\n",
       "      <td>None</td>\n",
       "      <td>call_0x5db9008cd625c5c4d545a3c9273f90a834c03f7...</td>\n",
       "      <td>63</td>\n",
       "      <td>call</td>\n",
       "      <td>0x5db9008cd625c5c4d545a3c9273f90a834c03f7f459f...</td>\n",
       "      <td>3</td>\n",
       "      <td>trace</td>\n",
       "      <td>0</td>\n",
       "    </tr>\n",
       "    <tr>\n",
       "      <th>8</th>\n",
       "      <td>0xa3585ea87a8659e187100c8ab1a34127971fe1026f41...</td>\n",
       "      <td>18214997</td>\n",
       "      <td>1695671447</td>\n",
       "      <td>call</td>\n",
       "      <td>None</td>\n",
       "      <td>0xc02aaa39b223fe8d0a0e5c4f27ead9083c756cc2</td>\n",
       "      <td>2300</td>\n",
       "      <td>1384</td>\n",
       "      <td>0x</td>\n",
       "      <td>trace_call_0x5db9008cd625c5c4d545a3c9273f90a83...</td>\n",
       "      <td>...</td>\n",
       "      <td>0</td>\n",
       "      <td>0x00000047bb99ea4d791bb749d970de71ee0b1a34</td>\n",
       "      <td>None</td>\n",
       "      <td>call_0x5db9008cd625c5c4d545a3c9273f90a834c03f7...</td>\n",
       "      <td>64</td>\n",
       "      <td>call</td>\n",
       "      <td>0x5db9008cd625c5c4d545a3c9273f90a834c03f7f459f...</td>\n",
       "      <td>3</td>\n",
       "      <td>trace</td>\n",
       "      <td>818148350618342913</td>\n",
       "    </tr>\n",
       "    <tr>\n",
       "      <th>9</th>\n",
       "      <td>0xa3585ea87a8659e187100c8ab1a34127971fe1026f41...</td>\n",
       "      <td>18214997</td>\n",
       "      <td>1695671447</td>\n",
       "      <td>call</td>\n",
       "      <td>None</td>\n",
       "      <td>0x00000047bb99ea4d791bb749d970de71ee0b1a34</td>\n",
       "      <td>124786</td>\n",
       "      <td>0</td>\n",
       "      <td>0x</td>\n",
       "      <td>trace_call_0x5db9008cd625c5c4d545a3c9273f90a83...</td>\n",
       "      <td>...</td>\n",
       "      <td>0</td>\n",
       "      <td>0x62f584f0373425d22ea6f4a61db07b93faeeb3f3</td>\n",
       "      <td>None</td>\n",
       "      <td>call_0x5db9008cd625c5c4d545a3c9273f90a834c03f7...</td>\n",
       "      <td>65</td>\n",
       "      <td>call</td>\n",
       "      <td>0x5db9008cd625c5c4d545a3c9273f90a834c03f7f459f...</td>\n",
       "      <td>3</td>\n",
       "      <td>trace</td>\n",
       "      <td>818148350618342913</td>\n",
       "    </tr>\n",
       "  </tbody>\n",
       "</table>\n",
       "<p>10 rows × 24 columns</p>\n",
       "</div>"
      ],
      "text/plain": [
       "                                          block_hash  block_number  \\\n",
       "0  0xa3585ea87a8659e187100c8ab1a34127971fe1026f41...      18214997   \n",
       "1  0xa3585ea87a8659e187100c8ab1a34127971fe1026f41...      18214997   \n",
       "2  0xa3585ea87a8659e187100c8ab1a34127971fe1026f41...      18214997   \n",
       "3  0xa3585ea87a8659e187100c8ab1a34127971fe1026f41...      18214997   \n",
       "4  0xa3585ea87a8659e187100c8ab1a34127971fe1026f41...      18214997   \n",
       "5  0xa3585ea87a8659e187100c8ab1a34127971fe1026f41...      18214997   \n",
       "6  0xa3585ea87a8659e187100c8ab1a34127971fe1026f41...      18214997   \n",
       "7  0xa3585ea87a8659e187100c8ab1a34127971fe1026f41...      18214997   \n",
       "8  0xa3585ea87a8659e187100c8ab1a34127971fe1026f41...      18214997   \n",
       "9  0xa3585ea87a8659e187100c8ab1a34127971fe1026f41...      18214997   \n",
       "\n",
       "   block_timestamp   call_type error  \\\n",
       "0       1695671447        call  None   \n",
       "1       1695671447  staticcall  None   \n",
       "2       1695671447  staticcall  None   \n",
       "3       1695671447  staticcall  None   \n",
       "4       1695671447        call  None   \n",
       "5       1695671447        call  None   \n",
       "6       1695671447        call  None   \n",
       "7       1695671447        call  None   \n",
       "8       1695671447        call  None   \n",
       "9       1695671447        call  None   \n",
       "\n",
       "                                 from_address     gas  gas_used  \\\n",
       "0  0x3208684f96458c540eb08f6f01b9e9afb2b7d4f0  250371    197305   \n",
       "1  0x3208684f96458c540eb08f6f01b9e9afb2b7d4f0  106209      2517   \n",
       "2  0x3208684f96458c540eb08f6f01b9e9afb2b7d4f0  103512       646   \n",
       "3  0x6a091a3406e0073c3cd6340122143009adac0eda  238528       534   \n",
       "4  0x7b577a879665ef6ad344da61de7ec2371f6ff68f    2300         0   \n",
       "5  0x692452d0a61792e01e98b25aac0f49910b72bd92  245508    164209   \n",
       "6  0x7a250d5630b4cf539739df2c5dacb4c659f2488d  237075     67252   \n",
       "7  0x00000047bb99ea4d791bb749d970de71ee0b1a34  142361     10524   \n",
       "8  0xc02aaa39b223fe8d0a0e5c4f27ead9083c756cc2    2300      1384   \n",
       "9  0x00000047bb99ea4d791bb749d970de71ee0b1a34  124786         0   \n",
       "\n",
       "                                               input  \\\n",
       "0  0xc9e75c48000000000000000031010000000000000000...   \n",
       "1                                         0x0902f1ac   \n",
       "2  0x70a082310000000000000000000000006a091a3406e0...   \n",
       "3  0x70a082310000000000000000000000006a091a3406e0...   \n",
       "4                                                 0x   \n",
       "5  0x791ac947000000000000000000000000000000000000...   \n",
       "6  0x23b872dd000000000000000000000000692452d0a617...   \n",
       "7  0x2e1a7d4d000000000000000000000000000000000000...   \n",
       "8                                                 0x   \n",
       "9                                                 0x   \n",
       "\n",
       "                                             item_id  ... subtraces  \\\n",
       "0  trace_call_0x613d806638785232065a36a0c48f043ec...  ...         2   \n",
       "1  trace_call_0x613d806638785232065a36a0c48f043ec...  ...         0   \n",
       "2  trace_call_0x613d806638785232065a36a0c48f043ec...  ...         0   \n",
       "3  trace_call_0x74e8aeaba0f705f72f8df1312d51ded3b...  ...         0   \n",
       "4  trace_call_0x74e8aeaba0f705f72f8df1312d51ded3b...  ...         0   \n",
       "5  trace_call_0xccdf5ce880c6688b1b876af9cdbba9302...  ...         7   \n",
       "6  trace_call_0xccdf5ce880c6688b1b876af9cdbba9302...  ...         0   \n",
       "7  trace_call_0x5db9008cd625c5c4d545a3c9273f90a83...  ...         1   \n",
       "8  trace_call_0x5db9008cd625c5c4d545a3c9273f90a83...  ...         0   \n",
       "9  trace_call_0x5db9008cd625c5c4d545a3c9273f90a83...  ...         0   \n",
       "\n",
       "                                   to_address trace_address  \\\n",
       "0  0x3208684f96458c540eb08f6f01b9e9afb2b7d4f0          None   \n",
       "1  0x6a091a3406e0073c3cd6340122143009adac0eda          None   \n",
       "2  0x767fe9edc9e0df98e07454847909b5e959d7ca0e          None   \n",
       "3  0xc02aaa39b223fe8d0a0e5c4f27ead9083c756cc2          None   \n",
       "4  0x1f9090aae28b8a3dceadf281b0f12828e676c326          None   \n",
       "5  0x7a250d5630b4cf539739df2c5dacb4c659f2488d          None   \n",
       "6  0x642ac912a58428767fa14a26a749f9a1b001ba92          None   \n",
       "7  0xc02aaa39b223fe8d0a0e5c4f27ead9083c756cc2          None   \n",
       "8  0x00000047bb99ea4d791bb749d970de71ee0b1a34          None   \n",
       "9  0x62f584f0373425d22ea6f4a61db07b93faeeb3f3          None   \n",
       "\n",
       "                                            trace_id  trace_index trace_type  \\\n",
       "0  call_0x613d806638785232065a36a0c48f043eca0bc33...            3       call   \n",
       "1  call_0x613d806638785232065a36a0c48f043eca0bc33...           17       call   \n",
       "2  call_0x613d806638785232065a36a0c48f043eca0bc33...           18       call   \n",
       "3  call_0x74e8aeaba0f705f72f8df1312d51ded3b715986...           35       call   \n",
       "4  call_0x74e8aeaba0f705f72f8df1312d51ded3b715986...           36       call   \n",
       "5  call_0xccdf5ce880c6688b1b876af9cdbba930214985a...           37       call   \n",
       "6  call_0xccdf5ce880c6688b1b876af9cdbba930214985a...           38       call   \n",
       "7  call_0x5db9008cd625c5c4d545a3c9273f90a834c03f7...           63       call   \n",
       "8  call_0x5db9008cd625c5c4d545a3c9273f90a834c03f7...           64       call   \n",
       "9  call_0x5db9008cd625c5c4d545a3c9273f90a834c03f7...           65       call   \n",
       "\n",
       "                                    transaction_hash transaction_index   type  \\\n",
       "0  0x613d806638785232065a36a0c48f043eca0bc3395475...                 0  trace   \n",
       "1  0x613d806638785232065a36a0c48f043eca0bc3395475...                 0  trace   \n",
       "2  0x613d806638785232065a36a0c48f043eca0bc3395475...                 0  trace   \n",
       "3  0x74e8aeaba0f705f72f8df1312d51ded3b715986c9d6f...                 1  trace   \n",
       "4  0x74e8aeaba0f705f72f8df1312d51ded3b715986c9d6f...                 1  trace   \n",
       "5  0xccdf5ce880c6688b1b876af9cdbba930214985aa6062...                 2  trace   \n",
       "6  0xccdf5ce880c6688b1b876af9cdbba930214985aa6062...                 2  trace   \n",
       "7  0x5db9008cd625c5c4d545a3c9273f90a834c03f7f459f...                 3  trace   \n",
       "8  0x5db9008cd625c5c4d545a3c9273f90a834c03f7f459f...                 3  trace   \n",
       "9  0x5db9008cd625c5c4d545a3c9273f90a834c03f7f459f...                 3  trace   \n",
       "\n",
       "                value  \n",
       "0                   0  \n",
       "1                   0  \n",
       "2                   0  \n",
       "3                   0  \n",
       "4  256016394959325000  \n",
       "5                   0  \n",
       "6                   0  \n",
       "7                   0  \n",
       "8  818148350618342913  \n",
       "9  818148350618342913  \n",
       "\n",
       "[10 rows x 24 columns]"
      ]
     },
     "execution_count": 16,
     "metadata": {},
     "output_type": "execute_result"
    }
   ],
   "source": [
    "%%bigquery\n",
    "select * from yugalabs_bqmlga4.vw_etherium_traces LIMIT 10;"
   ]
  },
  {
   "cell_type": "code",
   "execution_count": null,
   "id": "61424765-1522-4c51-ace2-314b1a751bca",
   "metadata": {},
   "outputs": [],
   "source": []
  }
 ],
 "metadata": {
  "environment": {
   "kernel": "python3",
   "name": "tf2-gpu.2-11.m110",
   "type": "gcloud",
   "uri": "gcr.io/deeplearning-platform-release/tf2-gpu.2-11:m110"
  },
  "kernelspec": {
   "display_name": "Python 3",
   "language": "python",
   "name": "python3"
  },
  "language_info": {
   "codemirror_mode": {
    "name": "ipython",
    "version": 3
   },
   "file_extension": ".py",
   "mimetype": "text/x-python",
   "name": "python",
   "nbconvert_exporter": "python",
   "pygments_lexer": "ipython3",
   "version": "3.10.12"
  }
 },
 "nbformat": 4,
 "nbformat_minor": 5
}
